{
 "cells": [
  {
   "cell_type": "code",
   "execution_count": 1,
   "id": "92eff1f6",
   "metadata": {
    "ExecuteTime": {
     "end_time": "2023-05-22T15:03:50.811035Z",
     "start_time": "2023-05-22T15:03:48.892066Z"
    }
   },
   "outputs": [],
   "source": [
    "import pandas as pd\n",
    "import matplotlib.pyplot as plt\n",
    "#from sklearn import datasets  \n",
    "import numpy as np\n",
    "from sklearn.model_selection import train_test_split\n",
    "from sklearn.tree import  DecisionTreeClassifier\n",
    "from sklearn import tree\n",
    "from sklearn.metrics import classification_report\n",
    "from sklearn import preprocessing  "
   ]
  },
  {
   "cell_type": "code",
   "execution_count": 9,
   "id": "92093e18",
   "metadata": {
    "ExecuteTime": {
     "end_time": "2023-05-22T15:08:05.622023Z",
     "start_time": "2023-05-22T15:08:05.597091Z"
    }
   },
   "outputs": [
    {
     "data": {
      "text/html": [
       "<div>\n",
       "<style scoped>\n",
       "    .dataframe tbody tr th:only-of-type {\n",
       "        vertical-align: middle;\n",
       "    }\n",
       "\n",
       "    .dataframe tbody tr th {\n",
       "        vertical-align: top;\n",
       "    }\n",
       "\n",
       "    .dataframe thead th {\n",
       "        text-align: right;\n",
       "    }\n",
       "</style>\n",
       "<table border=\"1\" class=\"dataframe\">\n",
       "  <thead>\n",
       "    <tr style=\"text-align: right;\">\n",
       "      <th></th>\n",
       "      <th>Sales</th>\n",
       "      <th>CompPrice</th>\n",
       "      <th>Income</th>\n",
       "      <th>Advertising</th>\n",
       "      <th>Population</th>\n",
       "      <th>Price</th>\n",
       "      <th>ShelveLoc</th>\n",
       "      <th>Age</th>\n",
       "      <th>Education</th>\n",
       "      <th>Urban</th>\n",
       "      <th>US</th>\n",
       "    </tr>\n",
       "  </thead>\n",
       "  <tbody>\n",
       "    <tr>\n",
       "      <th>0</th>\n",
       "      <td>9.50</td>\n",
       "      <td>138</td>\n",
       "      <td>73</td>\n",
       "      <td>11</td>\n",
       "      <td>276</td>\n",
       "      <td>120</td>\n",
       "      <td>Bad</td>\n",
       "      <td>42</td>\n",
       "      <td>17</td>\n",
       "      <td>Yes</td>\n",
       "      <td>Yes</td>\n",
       "    </tr>\n",
       "    <tr>\n",
       "      <th>1</th>\n",
       "      <td>11.22</td>\n",
       "      <td>111</td>\n",
       "      <td>48</td>\n",
       "      <td>16</td>\n",
       "      <td>260</td>\n",
       "      <td>83</td>\n",
       "      <td>Good</td>\n",
       "      <td>65</td>\n",
       "      <td>10</td>\n",
       "      <td>Yes</td>\n",
       "      <td>Yes</td>\n",
       "    </tr>\n",
       "    <tr>\n",
       "      <th>2</th>\n",
       "      <td>10.06</td>\n",
       "      <td>113</td>\n",
       "      <td>35</td>\n",
       "      <td>10</td>\n",
       "      <td>269</td>\n",
       "      <td>80</td>\n",
       "      <td>Medium</td>\n",
       "      <td>59</td>\n",
       "      <td>12</td>\n",
       "      <td>Yes</td>\n",
       "      <td>Yes</td>\n",
       "    </tr>\n",
       "    <tr>\n",
       "      <th>3</th>\n",
       "      <td>7.40</td>\n",
       "      <td>117</td>\n",
       "      <td>100</td>\n",
       "      <td>4</td>\n",
       "      <td>466</td>\n",
       "      <td>97</td>\n",
       "      <td>Medium</td>\n",
       "      <td>55</td>\n",
       "      <td>14</td>\n",
       "      <td>Yes</td>\n",
       "      <td>Yes</td>\n",
       "    </tr>\n",
       "    <tr>\n",
       "      <th>4</th>\n",
       "      <td>4.15</td>\n",
       "      <td>141</td>\n",
       "      <td>64</td>\n",
       "      <td>3</td>\n",
       "      <td>340</td>\n",
       "      <td>128</td>\n",
       "      <td>Bad</td>\n",
       "      <td>38</td>\n",
       "      <td>13</td>\n",
       "      <td>Yes</td>\n",
       "      <td>No</td>\n",
       "    </tr>\n",
       "    <tr>\n",
       "      <th>...</th>\n",
       "      <td>...</td>\n",
       "      <td>...</td>\n",
       "      <td>...</td>\n",
       "      <td>...</td>\n",
       "      <td>...</td>\n",
       "      <td>...</td>\n",
       "      <td>...</td>\n",
       "      <td>...</td>\n",
       "      <td>...</td>\n",
       "      <td>...</td>\n",
       "      <td>...</td>\n",
       "    </tr>\n",
       "    <tr>\n",
       "      <th>395</th>\n",
       "      <td>12.57</td>\n",
       "      <td>138</td>\n",
       "      <td>108</td>\n",
       "      <td>17</td>\n",
       "      <td>203</td>\n",
       "      <td>128</td>\n",
       "      <td>Good</td>\n",
       "      <td>33</td>\n",
       "      <td>14</td>\n",
       "      <td>Yes</td>\n",
       "      <td>Yes</td>\n",
       "    </tr>\n",
       "    <tr>\n",
       "      <th>396</th>\n",
       "      <td>6.14</td>\n",
       "      <td>139</td>\n",
       "      <td>23</td>\n",
       "      <td>3</td>\n",
       "      <td>37</td>\n",
       "      <td>120</td>\n",
       "      <td>Medium</td>\n",
       "      <td>55</td>\n",
       "      <td>11</td>\n",
       "      <td>No</td>\n",
       "      <td>Yes</td>\n",
       "    </tr>\n",
       "    <tr>\n",
       "      <th>397</th>\n",
       "      <td>7.41</td>\n",
       "      <td>162</td>\n",
       "      <td>26</td>\n",
       "      <td>12</td>\n",
       "      <td>368</td>\n",
       "      <td>159</td>\n",
       "      <td>Medium</td>\n",
       "      <td>40</td>\n",
       "      <td>18</td>\n",
       "      <td>Yes</td>\n",
       "      <td>Yes</td>\n",
       "    </tr>\n",
       "    <tr>\n",
       "      <th>398</th>\n",
       "      <td>5.94</td>\n",
       "      <td>100</td>\n",
       "      <td>79</td>\n",
       "      <td>7</td>\n",
       "      <td>284</td>\n",
       "      <td>95</td>\n",
       "      <td>Bad</td>\n",
       "      <td>50</td>\n",
       "      <td>12</td>\n",
       "      <td>Yes</td>\n",
       "      <td>Yes</td>\n",
       "    </tr>\n",
       "    <tr>\n",
       "      <th>399</th>\n",
       "      <td>9.71</td>\n",
       "      <td>134</td>\n",
       "      <td>37</td>\n",
       "      <td>0</td>\n",
       "      <td>27</td>\n",
       "      <td>120</td>\n",
       "      <td>Good</td>\n",
       "      <td>49</td>\n",
       "      <td>16</td>\n",
       "      <td>Yes</td>\n",
       "      <td>Yes</td>\n",
       "    </tr>\n",
       "  </tbody>\n",
       "</table>\n",
       "<p>400 rows × 11 columns</p>\n",
       "</div>"
      ],
      "text/plain": [
       "     Sales  CompPrice  Income  Advertising  Population  Price ShelveLoc  Age  \\\n",
       "0     9.50        138      73           11         276    120       Bad   42   \n",
       "1    11.22        111      48           16         260     83      Good   65   \n",
       "2    10.06        113      35           10         269     80    Medium   59   \n",
       "3     7.40        117     100            4         466     97    Medium   55   \n",
       "4     4.15        141      64            3         340    128       Bad   38   \n",
       "..     ...        ...     ...          ...         ...    ...       ...  ...   \n",
       "395  12.57        138     108           17         203    128      Good   33   \n",
       "396   6.14        139      23            3          37    120    Medium   55   \n",
       "397   7.41        162      26           12         368    159    Medium   40   \n",
       "398   5.94        100      79            7         284     95       Bad   50   \n",
       "399   9.71        134      37            0          27    120      Good   49   \n",
       "\n",
       "     Education Urban   US  \n",
       "0           17   Yes  Yes  \n",
       "1           10   Yes  Yes  \n",
       "2           12   Yes  Yes  \n",
       "3           14   Yes  Yes  \n",
       "4           13   Yes   No  \n",
       "..         ...   ...  ...  \n",
       "395         14   Yes  Yes  \n",
       "396         11    No  Yes  \n",
       "397         18   Yes  Yes  \n",
       "398         12   Yes  Yes  \n",
       "399         16   Yes  Yes  \n",
       "\n",
       "[400 rows x 11 columns]"
      ]
     },
     "execution_count": 9,
     "metadata": {},
     "output_type": "execute_result"
    }
   ],
   "source": [
    "data = pd.read_csv('Company_Data.csv')\n",
    "data"
   ]
  },
  {
   "cell_type": "code",
   "execution_count": 10,
   "id": "09673f91",
   "metadata": {
    "ExecuteTime": {
     "end_time": "2023-05-22T15:08:08.028534Z",
     "start_time": "2023-05-22T15:08:08.010581Z"
    }
   },
   "outputs": [
    {
     "data": {
      "text/plain": [
       "array(['Bad', 'Good', 'Medium'], dtype=object)"
      ]
     },
     "execution_count": 10,
     "metadata": {},
     "output_type": "execute_result"
    }
   ],
   "source": [
    "data['ShelveLoc'].unique()"
   ]
  },
  {
   "cell_type": "code",
   "execution_count": 11,
   "id": "889bf87c",
   "metadata": {
    "ExecuteTime": {
     "end_time": "2023-05-22T15:08:08.743991Z",
     "start_time": "2023-05-22T15:08:08.723013Z"
    }
   },
   "outputs": [
    {
     "data": {
      "text/plain": [
       "array(['Yes', 'No'], dtype=object)"
      ]
     },
     "execution_count": 11,
     "metadata": {},
     "output_type": "execute_result"
    }
   ],
   "source": [
    "data['Urban'].unique()"
   ]
  },
  {
   "cell_type": "code",
   "execution_count": 12,
   "id": "b6e22be0",
   "metadata": {
    "ExecuteTime": {
     "end_time": "2023-05-22T15:08:09.553363Z",
     "start_time": "2023-05-22T15:08:09.539403Z"
    }
   },
   "outputs": [
    {
     "data": {
      "text/plain": [
       "array(['Yes', 'No'], dtype=object)"
      ]
     },
     "execution_count": 12,
     "metadata": {},
     "output_type": "execute_result"
    }
   ],
   "source": [
    "data['US'].unique()"
   ]
  },
  {
   "cell_type": "code",
   "execution_count": 13,
   "id": "2ad2338d",
   "metadata": {
    "ExecuteTime": {
     "end_time": "2023-05-22T15:08:12.137291Z",
     "start_time": "2023-05-22T15:08:12.122306Z"
    }
   },
   "outputs": [],
   "source": [
    "data = pd.get_dummies(data)"
   ]
  },
  {
   "cell_type": "code",
   "execution_count": 14,
   "id": "3f719432",
   "metadata": {
    "ExecuteTime": {
     "end_time": "2023-05-22T15:08:12.945897Z",
     "start_time": "2023-05-22T15:08:12.922958Z"
    }
   },
   "outputs": [
    {
     "data": {
      "text/html": [
       "<div>\n",
       "<style scoped>\n",
       "    .dataframe tbody tr th:only-of-type {\n",
       "        vertical-align: middle;\n",
       "    }\n",
       "\n",
       "    .dataframe tbody tr th {\n",
       "        vertical-align: top;\n",
       "    }\n",
       "\n",
       "    .dataframe thead th {\n",
       "        text-align: right;\n",
       "    }\n",
       "</style>\n",
       "<table border=\"1\" class=\"dataframe\">\n",
       "  <thead>\n",
       "    <tr style=\"text-align: right;\">\n",
       "      <th></th>\n",
       "      <th>Sales</th>\n",
       "      <th>CompPrice</th>\n",
       "      <th>Income</th>\n",
       "      <th>Advertising</th>\n",
       "      <th>Population</th>\n",
       "      <th>Price</th>\n",
       "      <th>Age</th>\n",
       "      <th>Education</th>\n",
       "      <th>ShelveLoc_Bad</th>\n",
       "      <th>ShelveLoc_Good</th>\n",
       "      <th>ShelveLoc_Medium</th>\n",
       "      <th>Urban_No</th>\n",
       "      <th>Urban_Yes</th>\n",
       "      <th>US_No</th>\n",
       "      <th>US_Yes</th>\n",
       "    </tr>\n",
       "  </thead>\n",
       "  <tbody>\n",
       "    <tr>\n",
       "      <th>0</th>\n",
       "      <td>9.50</td>\n",
       "      <td>138</td>\n",
       "      <td>73</td>\n",
       "      <td>11</td>\n",
       "      <td>276</td>\n",
       "      <td>120</td>\n",
       "      <td>42</td>\n",
       "      <td>17</td>\n",
       "      <td>1</td>\n",
       "      <td>0</td>\n",
       "      <td>0</td>\n",
       "      <td>0</td>\n",
       "      <td>1</td>\n",
       "      <td>0</td>\n",
       "      <td>1</td>\n",
       "    </tr>\n",
       "    <tr>\n",
       "      <th>1</th>\n",
       "      <td>11.22</td>\n",
       "      <td>111</td>\n",
       "      <td>48</td>\n",
       "      <td>16</td>\n",
       "      <td>260</td>\n",
       "      <td>83</td>\n",
       "      <td>65</td>\n",
       "      <td>10</td>\n",
       "      <td>0</td>\n",
       "      <td>1</td>\n",
       "      <td>0</td>\n",
       "      <td>0</td>\n",
       "      <td>1</td>\n",
       "      <td>0</td>\n",
       "      <td>1</td>\n",
       "    </tr>\n",
       "    <tr>\n",
       "      <th>2</th>\n",
       "      <td>10.06</td>\n",
       "      <td>113</td>\n",
       "      <td>35</td>\n",
       "      <td>10</td>\n",
       "      <td>269</td>\n",
       "      <td>80</td>\n",
       "      <td>59</td>\n",
       "      <td>12</td>\n",
       "      <td>0</td>\n",
       "      <td>0</td>\n",
       "      <td>1</td>\n",
       "      <td>0</td>\n",
       "      <td>1</td>\n",
       "      <td>0</td>\n",
       "      <td>1</td>\n",
       "    </tr>\n",
       "    <tr>\n",
       "      <th>3</th>\n",
       "      <td>7.40</td>\n",
       "      <td>117</td>\n",
       "      <td>100</td>\n",
       "      <td>4</td>\n",
       "      <td>466</td>\n",
       "      <td>97</td>\n",
       "      <td>55</td>\n",
       "      <td>14</td>\n",
       "      <td>0</td>\n",
       "      <td>0</td>\n",
       "      <td>1</td>\n",
       "      <td>0</td>\n",
       "      <td>1</td>\n",
       "      <td>0</td>\n",
       "      <td>1</td>\n",
       "    </tr>\n",
       "    <tr>\n",
       "      <th>4</th>\n",
       "      <td>4.15</td>\n",
       "      <td>141</td>\n",
       "      <td>64</td>\n",
       "      <td>3</td>\n",
       "      <td>340</td>\n",
       "      <td>128</td>\n",
       "      <td>38</td>\n",
       "      <td>13</td>\n",
       "      <td>1</td>\n",
       "      <td>0</td>\n",
       "      <td>0</td>\n",
       "      <td>0</td>\n",
       "      <td>1</td>\n",
       "      <td>1</td>\n",
       "      <td>0</td>\n",
       "    </tr>\n",
       "    <tr>\n",
       "      <th>...</th>\n",
       "      <td>...</td>\n",
       "      <td>...</td>\n",
       "      <td>...</td>\n",
       "      <td>...</td>\n",
       "      <td>...</td>\n",
       "      <td>...</td>\n",
       "      <td>...</td>\n",
       "      <td>...</td>\n",
       "      <td>...</td>\n",
       "      <td>...</td>\n",
       "      <td>...</td>\n",
       "      <td>...</td>\n",
       "      <td>...</td>\n",
       "      <td>...</td>\n",
       "      <td>...</td>\n",
       "    </tr>\n",
       "    <tr>\n",
       "      <th>395</th>\n",
       "      <td>12.57</td>\n",
       "      <td>138</td>\n",
       "      <td>108</td>\n",
       "      <td>17</td>\n",
       "      <td>203</td>\n",
       "      <td>128</td>\n",
       "      <td>33</td>\n",
       "      <td>14</td>\n",
       "      <td>0</td>\n",
       "      <td>1</td>\n",
       "      <td>0</td>\n",
       "      <td>0</td>\n",
       "      <td>1</td>\n",
       "      <td>0</td>\n",
       "      <td>1</td>\n",
       "    </tr>\n",
       "    <tr>\n",
       "      <th>396</th>\n",
       "      <td>6.14</td>\n",
       "      <td>139</td>\n",
       "      <td>23</td>\n",
       "      <td>3</td>\n",
       "      <td>37</td>\n",
       "      <td>120</td>\n",
       "      <td>55</td>\n",
       "      <td>11</td>\n",
       "      <td>0</td>\n",
       "      <td>0</td>\n",
       "      <td>1</td>\n",
       "      <td>1</td>\n",
       "      <td>0</td>\n",
       "      <td>0</td>\n",
       "      <td>1</td>\n",
       "    </tr>\n",
       "    <tr>\n",
       "      <th>397</th>\n",
       "      <td>7.41</td>\n",
       "      <td>162</td>\n",
       "      <td>26</td>\n",
       "      <td>12</td>\n",
       "      <td>368</td>\n",
       "      <td>159</td>\n",
       "      <td>40</td>\n",
       "      <td>18</td>\n",
       "      <td>0</td>\n",
       "      <td>0</td>\n",
       "      <td>1</td>\n",
       "      <td>0</td>\n",
       "      <td>1</td>\n",
       "      <td>0</td>\n",
       "      <td>1</td>\n",
       "    </tr>\n",
       "    <tr>\n",
       "      <th>398</th>\n",
       "      <td>5.94</td>\n",
       "      <td>100</td>\n",
       "      <td>79</td>\n",
       "      <td>7</td>\n",
       "      <td>284</td>\n",
       "      <td>95</td>\n",
       "      <td>50</td>\n",
       "      <td>12</td>\n",
       "      <td>1</td>\n",
       "      <td>0</td>\n",
       "      <td>0</td>\n",
       "      <td>0</td>\n",
       "      <td>1</td>\n",
       "      <td>0</td>\n",
       "      <td>1</td>\n",
       "    </tr>\n",
       "    <tr>\n",
       "      <th>399</th>\n",
       "      <td>9.71</td>\n",
       "      <td>134</td>\n",
       "      <td>37</td>\n",
       "      <td>0</td>\n",
       "      <td>27</td>\n",
       "      <td>120</td>\n",
       "      <td>49</td>\n",
       "      <td>16</td>\n",
       "      <td>0</td>\n",
       "      <td>1</td>\n",
       "      <td>0</td>\n",
       "      <td>0</td>\n",
       "      <td>1</td>\n",
       "      <td>0</td>\n",
       "      <td>1</td>\n",
       "    </tr>\n",
       "  </tbody>\n",
       "</table>\n",
       "<p>400 rows × 15 columns</p>\n",
       "</div>"
      ],
      "text/plain": [
       "     Sales  CompPrice  Income  Advertising  Population  Price  Age  Education  \\\n",
       "0     9.50        138      73           11         276    120   42         17   \n",
       "1    11.22        111      48           16         260     83   65         10   \n",
       "2    10.06        113      35           10         269     80   59         12   \n",
       "3     7.40        117     100            4         466     97   55         14   \n",
       "4     4.15        141      64            3         340    128   38         13   \n",
       "..     ...        ...     ...          ...         ...    ...  ...        ...   \n",
       "395  12.57        138     108           17         203    128   33         14   \n",
       "396   6.14        139      23            3          37    120   55         11   \n",
       "397   7.41        162      26           12         368    159   40         18   \n",
       "398   5.94        100      79            7         284     95   50         12   \n",
       "399   9.71        134      37            0          27    120   49         16   \n",
       "\n",
       "     ShelveLoc_Bad  ShelveLoc_Good  ShelveLoc_Medium  Urban_No  Urban_Yes  \\\n",
       "0                1               0                 0         0          1   \n",
       "1                0               1                 0         0          1   \n",
       "2                0               0                 1         0          1   \n",
       "3                0               0                 1         0          1   \n",
       "4                1               0                 0         0          1   \n",
       "..             ...             ...               ...       ...        ...   \n",
       "395              0               1                 0         0          1   \n",
       "396              0               0                 1         1          0   \n",
       "397              0               0                 1         0          1   \n",
       "398              1               0                 0         0          1   \n",
       "399              0               1                 0         0          1   \n",
       "\n",
       "     US_No  US_Yes  \n",
       "0        0       1  \n",
       "1        0       1  \n",
       "2        0       1  \n",
       "3        0       1  \n",
       "4        1       0  \n",
       "..     ...     ...  \n",
       "395      0       1  \n",
       "396      0       1  \n",
       "397      0       1  \n",
       "398      0       1  \n",
       "399      0       1  \n",
       "\n",
       "[400 rows x 15 columns]"
      ]
     },
     "execution_count": 14,
     "metadata": {},
     "output_type": "execute_result"
    }
   ],
   "source": [
    "data"
   ]
  },
  {
   "cell_type": "code",
   "execution_count": 15,
   "id": "41729c45",
   "metadata": {
    "ExecuteTime": {
     "end_time": "2023-05-22T15:08:21.154341Z",
     "start_time": "2023-05-22T15:08:21.138389Z"
    }
   },
   "outputs": [
    {
     "data": {
      "text/plain": [
       "count    400.000000\n",
       "mean       7.496325\n",
       "std        2.824115\n",
       "min        0.000000\n",
       "25%        5.390000\n",
       "50%        7.490000\n",
       "75%        9.320000\n",
       "max       16.270000\n",
       "Name: Sales, dtype: float64"
      ]
     },
     "execution_count": 15,
     "metadata": {},
     "output_type": "execute_result"
    }
   ],
   "source": [
    "data['Sales'].describe()"
   ]
  },
  {
   "cell_type": "markdown",
   "id": "86bf8c42",
   "metadata": {},
   "source": [
    "##### Mean and Median of the Sales column is 7.49. So since the required predictions are either high sales or low sales, values higher than the mean will be high sales and the rest will be low sales"
   ]
  },
  {
   "cell_type": "code",
   "execution_count": 16,
   "id": "4a837240",
   "metadata": {
    "ExecuteTime": {
     "end_time": "2023-05-22T15:08:31.680763Z",
     "start_time": "2023-05-22T15:08:31.658066Z"
    }
   },
   "outputs": [],
   "source": [
    "data['Sales'] = ['High Sales' if data['Sales'].iloc[i] >= 7.49 else 'Low Sales' for i in range(0, (data.shape)[0])]"
   ]
  },
  {
   "cell_type": "code",
   "execution_count": 17,
   "id": "bf7b1e34",
   "metadata": {
    "ExecuteTime": {
     "end_time": "2023-05-22T15:08:32.425248Z",
     "start_time": "2023-05-22T15:08:32.395324Z"
    },
    "scrolled": true
   },
   "outputs": [
    {
     "data": {
      "text/html": [
       "<div>\n",
       "<style scoped>\n",
       "    .dataframe tbody tr th:only-of-type {\n",
       "        vertical-align: middle;\n",
       "    }\n",
       "\n",
       "    .dataframe tbody tr th {\n",
       "        vertical-align: top;\n",
       "    }\n",
       "\n",
       "    .dataframe thead th {\n",
       "        text-align: right;\n",
       "    }\n",
       "</style>\n",
       "<table border=\"1\" class=\"dataframe\">\n",
       "  <thead>\n",
       "    <tr style=\"text-align: right;\">\n",
       "      <th></th>\n",
       "      <th>Sales</th>\n",
       "      <th>CompPrice</th>\n",
       "      <th>Income</th>\n",
       "      <th>Advertising</th>\n",
       "      <th>Population</th>\n",
       "      <th>Price</th>\n",
       "      <th>Age</th>\n",
       "      <th>Education</th>\n",
       "      <th>ShelveLoc_Bad</th>\n",
       "      <th>ShelveLoc_Good</th>\n",
       "      <th>ShelveLoc_Medium</th>\n",
       "      <th>Urban_No</th>\n",
       "      <th>Urban_Yes</th>\n",
       "      <th>US_No</th>\n",
       "      <th>US_Yes</th>\n",
       "    </tr>\n",
       "  </thead>\n",
       "  <tbody>\n",
       "    <tr>\n",
       "      <th>0</th>\n",
       "      <td>High Sales</td>\n",
       "      <td>138</td>\n",
       "      <td>73</td>\n",
       "      <td>11</td>\n",
       "      <td>276</td>\n",
       "      <td>120</td>\n",
       "      <td>42</td>\n",
       "      <td>17</td>\n",
       "      <td>1</td>\n",
       "      <td>0</td>\n",
       "      <td>0</td>\n",
       "      <td>0</td>\n",
       "      <td>1</td>\n",
       "      <td>0</td>\n",
       "      <td>1</td>\n",
       "    </tr>\n",
       "    <tr>\n",
       "      <th>1</th>\n",
       "      <td>High Sales</td>\n",
       "      <td>111</td>\n",
       "      <td>48</td>\n",
       "      <td>16</td>\n",
       "      <td>260</td>\n",
       "      <td>83</td>\n",
       "      <td>65</td>\n",
       "      <td>10</td>\n",
       "      <td>0</td>\n",
       "      <td>1</td>\n",
       "      <td>0</td>\n",
       "      <td>0</td>\n",
       "      <td>1</td>\n",
       "      <td>0</td>\n",
       "      <td>1</td>\n",
       "    </tr>\n",
       "    <tr>\n",
       "      <th>2</th>\n",
       "      <td>High Sales</td>\n",
       "      <td>113</td>\n",
       "      <td>35</td>\n",
       "      <td>10</td>\n",
       "      <td>269</td>\n",
       "      <td>80</td>\n",
       "      <td>59</td>\n",
       "      <td>12</td>\n",
       "      <td>0</td>\n",
       "      <td>0</td>\n",
       "      <td>1</td>\n",
       "      <td>0</td>\n",
       "      <td>1</td>\n",
       "      <td>0</td>\n",
       "      <td>1</td>\n",
       "    </tr>\n",
       "    <tr>\n",
       "      <th>3</th>\n",
       "      <td>Low Sales</td>\n",
       "      <td>117</td>\n",
       "      <td>100</td>\n",
       "      <td>4</td>\n",
       "      <td>466</td>\n",
       "      <td>97</td>\n",
       "      <td>55</td>\n",
       "      <td>14</td>\n",
       "      <td>0</td>\n",
       "      <td>0</td>\n",
       "      <td>1</td>\n",
       "      <td>0</td>\n",
       "      <td>1</td>\n",
       "      <td>0</td>\n",
       "      <td>1</td>\n",
       "    </tr>\n",
       "    <tr>\n",
       "      <th>4</th>\n",
       "      <td>Low Sales</td>\n",
       "      <td>141</td>\n",
       "      <td>64</td>\n",
       "      <td>3</td>\n",
       "      <td>340</td>\n",
       "      <td>128</td>\n",
       "      <td>38</td>\n",
       "      <td>13</td>\n",
       "      <td>1</td>\n",
       "      <td>0</td>\n",
       "      <td>0</td>\n",
       "      <td>0</td>\n",
       "      <td>1</td>\n",
       "      <td>1</td>\n",
       "      <td>0</td>\n",
       "    </tr>\n",
       "    <tr>\n",
       "      <th>...</th>\n",
       "      <td>...</td>\n",
       "      <td>...</td>\n",
       "      <td>...</td>\n",
       "      <td>...</td>\n",
       "      <td>...</td>\n",
       "      <td>...</td>\n",
       "      <td>...</td>\n",
       "      <td>...</td>\n",
       "      <td>...</td>\n",
       "      <td>...</td>\n",
       "      <td>...</td>\n",
       "      <td>...</td>\n",
       "      <td>...</td>\n",
       "      <td>...</td>\n",
       "      <td>...</td>\n",
       "    </tr>\n",
       "    <tr>\n",
       "      <th>395</th>\n",
       "      <td>High Sales</td>\n",
       "      <td>138</td>\n",
       "      <td>108</td>\n",
       "      <td>17</td>\n",
       "      <td>203</td>\n",
       "      <td>128</td>\n",
       "      <td>33</td>\n",
       "      <td>14</td>\n",
       "      <td>0</td>\n",
       "      <td>1</td>\n",
       "      <td>0</td>\n",
       "      <td>0</td>\n",
       "      <td>1</td>\n",
       "      <td>0</td>\n",
       "      <td>1</td>\n",
       "    </tr>\n",
       "    <tr>\n",
       "      <th>396</th>\n",
       "      <td>Low Sales</td>\n",
       "      <td>139</td>\n",
       "      <td>23</td>\n",
       "      <td>3</td>\n",
       "      <td>37</td>\n",
       "      <td>120</td>\n",
       "      <td>55</td>\n",
       "      <td>11</td>\n",
       "      <td>0</td>\n",
       "      <td>0</td>\n",
       "      <td>1</td>\n",
       "      <td>1</td>\n",
       "      <td>0</td>\n",
       "      <td>0</td>\n",
       "      <td>1</td>\n",
       "    </tr>\n",
       "    <tr>\n",
       "      <th>397</th>\n",
       "      <td>Low Sales</td>\n",
       "      <td>162</td>\n",
       "      <td>26</td>\n",
       "      <td>12</td>\n",
       "      <td>368</td>\n",
       "      <td>159</td>\n",
       "      <td>40</td>\n",
       "      <td>18</td>\n",
       "      <td>0</td>\n",
       "      <td>0</td>\n",
       "      <td>1</td>\n",
       "      <td>0</td>\n",
       "      <td>1</td>\n",
       "      <td>0</td>\n",
       "      <td>1</td>\n",
       "    </tr>\n",
       "    <tr>\n",
       "      <th>398</th>\n",
       "      <td>Low Sales</td>\n",
       "      <td>100</td>\n",
       "      <td>79</td>\n",
       "      <td>7</td>\n",
       "      <td>284</td>\n",
       "      <td>95</td>\n",
       "      <td>50</td>\n",
       "      <td>12</td>\n",
       "      <td>1</td>\n",
       "      <td>0</td>\n",
       "      <td>0</td>\n",
       "      <td>0</td>\n",
       "      <td>1</td>\n",
       "      <td>0</td>\n",
       "      <td>1</td>\n",
       "    </tr>\n",
       "    <tr>\n",
       "      <th>399</th>\n",
       "      <td>High Sales</td>\n",
       "      <td>134</td>\n",
       "      <td>37</td>\n",
       "      <td>0</td>\n",
       "      <td>27</td>\n",
       "      <td>120</td>\n",
       "      <td>49</td>\n",
       "      <td>16</td>\n",
       "      <td>0</td>\n",
       "      <td>1</td>\n",
       "      <td>0</td>\n",
       "      <td>0</td>\n",
       "      <td>1</td>\n",
       "      <td>0</td>\n",
       "      <td>1</td>\n",
       "    </tr>\n",
       "  </tbody>\n",
       "</table>\n",
       "<p>400 rows × 15 columns</p>\n",
       "</div>"
      ],
      "text/plain": [
       "          Sales  CompPrice  Income  Advertising  Population  Price  Age  \\\n",
       "0    High Sales        138      73           11         276    120   42   \n",
       "1    High Sales        111      48           16         260     83   65   \n",
       "2    High Sales        113      35           10         269     80   59   \n",
       "3     Low Sales        117     100            4         466     97   55   \n",
       "4     Low Sales        141      64            3         340    128   38   \n",
       "..          ...        ...     ...          ...         ...    ...  ...   \n",
       "395  High Sales        138     108           17         203    128   33   \n",
       "396   Low Sales        139      23            3          37    120   55   \n",
       "397   Low Sales        162      26           12         368    159   40   \n",
       "398   Low Sales        100      79            7         284     95   50   \n",
       "399  High Sales        134      37            0          27    120   49   \n",
       "\n",
       "     Education  ShelveLoc_Bad  ShelveLoc_Good  ShelveLoc_Medium  Urban_No  \\\n",
       "0           17              1               0                 0         0   \n",
       "1           10              0               1                 0         0   \n",
       "2           12              0               0                 1         0   \n",
       "3           14              0               0                 1         0   \n",
       "4           13              1               0                 0         0   \n",
       "..         ...            ...             ...               ...       ...   \n",
       "395         14              0               1                 0         0   \n",
       "396         11              0               0                 1         1   \n",
       "397         18              0               0                 1         0   \n",
       "398         12              1               0                 0         0   \n",
       "399         16              0               1                 0         0   \n",
       "\n",
       "     Urban_Yes  US_No  US_Yes  \n",
       "0            1      0       1  \n",
       "1            1      0       1  \n",
       "2            1      0       1  \n",
       "3            1      0       1  \n",
       "4            1      1       0  \n",
       "..         ...    ...     ...  \n",
       "395          1      0       1  \n",
       "396          0      0       1  \n",
       "397          1      0       1  \n",
       "398          1      0       1  \n",
       "399          1      0       1  \n",
       "\n",
       "[400 rows x 15 columns]"
      ]
     },
     "execution_count": 17,
     "metadata": {},
     "output_type": "execute_result"
    }
   ],
   "source": [
    "data"
   ]
  },
  {
   "cell_type": "code",
   "execution_count": 18,
   "id": "cb11fb5a",
   "metadata": {
    "ExecuteTime": {
     "end_time": "2023-05-22T15:09:04.953219Z",
     "start_time": "2023-05-22T15:09:04.939258Z"
    }
   },
   "outputs": [],
   "source": [
    "x = data.iloc[:, 1:]\n",
    "y = data.iloc[:, 0]"
   ]
  },
  {
   "cell_type": "code",
   "execution_count": 34,
   "id": "234b9f30",
   "metadata": {
    "ExecuteTime": {
     "end_time": "2023-05-22T15:11:02.577317Z",
     "start_time": "2023-05-22T15:11:02.562355Z"
    }
   },
   "outputs": [],
   "source": [
    "# Splitting data into training and testing data set\n",
    "x_train, x_test,y_train,y_test = train_test_split(x,y, test_size=0.2)"
   ]
  },
  {
   "cell_type": "markdown",
   "id": "b7f1fba4",
   "metadata": {},
   "source": [
    "## Decision Tree Model"
   ]
  },
  {
   "cell_type": "markdown",
   "id": "bba323e8",
   "metadata": {},
   "source": [
    "### Using entropy criteria"
   ]
  },
  {
   "cell_type": "code",
   "execution_count": 47,
   "id": "845347e6",
   "metadata": {
    "ExecuteTime": {
     "end_time": "2023-05-22T15:12:32.785959Z",
     "start_time": "2023-05-22T15:12:32.771001Z"
    }
   },
   "outputs": [
    {
     "data": {
      "text/html": [
       "<style>#sk-container-id-5 {color: black;background-color: white;}#sk-container-id-5 pre{padding: 0;}#sk-container-id-5 div.sk-toggleable {background-color: white;}#sk-container-id-5 label.sk-toggleable__label {cursor: pointer;display: block;width: 100%;margin-bottom: 0;padding: 0.3em;box-sizing: border-box;text-align: center;}#sk-container-id-5 label.sk-toggleable__label-arrow:before {content: \"▸\";float: left;margin-right: 0.25em;color: #696969;}#sk-container-id-5 label.sk-toggleable__label-arrow:hover:before {color: black;}#sk-container-id-5 div.sk-estimator:hover label.sk-toggleable__label-arrow:before {color: black;}#sk-container-id-5 div.sk-toggleable__content {max-height: 0;max-width: 0;overflow: hidden;text-align: left;background-color: #f0f8ff;}#sk-container-id-5 div.sk-toggleable__content pre {margin: 0.2em;color: black;border-radius: 0.25em;background-color: #f0f8ff;}#sk-container-id-5 input.sk-toggleable__control:checked~div.sk-toggleable__content {max-height: 200px;max-width: 100%;overflow: auto;}#sk-container-id-5 input.sk-toggleable__control:checked~label.sk-toggleable__label-arrow:before {content: \"▾\";}#sk-container-id-5 div.sk-estimator input.sk-toggleable__control:checked~label.sk-toggleable__label {background-color: #d4ebff;}#sk-container-id-5 div.sk-label input.sk-toggleable__control:checked~label.sk-toggleable__label {background-color: #d4ebff;}#sk-container-id-5 input.sk-hidden--visually {border: 0;clip: rect(1px 1px 1px 1px);clip: rect(1px, 1px, 1px, 1px);height: 1px;margin: -1px;overflow: hidden;padding: 0;position: absolute;width: 1px;}#sk-container-id-5 div.sk-estimator {font-family: monospace;background-color: #f0f8ff;border: 1px dotted black;border-radius: 0.25em;box-sizing: border-box;margin-bottom: 0.5em;}#sk-container-id-5 div.sk-estimator:hover {background-color: #d4ebff;}#sk-container-id-5 div.sk-parallel-item::after {content: \"\";width: 100%;border-bottom: 1px solid gray;flex-grow: 1;}#sk-container-id-5 div.sk-label:hover label.sk-toggleable__label {background-color: #d4ebff;}#sk-container-id-5 div.sk-serial::before {content: \"\";position: absolute;border-left: 1px solid gray;box-sizing: border-box;top: 0;bottom: 0;left: 50%;z-index: 0;}#sk-container-id-5 div.sk-serial {display: flex;flex-direction: column;align-items: center;background-color: white;padding-right: 0.2em;padding-left: 0.2em;position: relative;}#sk-container-id-5 div.sk-item {position: relative;z-index: 1;}#sk-container-id-5 div.sk-parallel {display: flex;align-items: stretch;justify-content: center;background-color: white;position: relative;}#sk-container-id-5 div.sk-item::before, #sk-container-id-5 div.sk-parallel-item::before {content: \"\";position: absolute;border-left: 1px solid gray;box-sizing: border-box;top: 0;bottom: 0;left: 50%;z-index: -1;}#sk-container-id-5 div.sk-parallel-item {display: flex;flex-direction: column;z-index: 1;position: relative;background-color: white;}#sk-container-id-5 div.sk-parallel-item:first-child::after {align-self: flex-end;width: 50%;}#sk-container-id-5 div.sk-parallel-item:last-child::after {align-self: flex-start;width: 50%;}#sk-container-id-5 div.sk-parallel-item:only-child::after {width: 0;}#sk-container-id-5 div.sk-dashed-wrapped {border: 1px dashed gray;margin: 0 0.4em 0.5em 0.4em;box-sizing: border-box;padding-bottom: 0.4em;background-color: white;}#sk-container-id-5 div.sk-label label {font-family: monospace;font-weight: bold;display: inline-block;line-height: 1.2em;}#sk-container-id-5 div.sk-label-container {text-align: center;}#sk-container-id-5 div.sk-container {/* jupyter's `normalize.less` sets `[hidden] { display: none; }` but bootstrap.min.css set `[hidden] { display: none !important; }` so we also need the `!important` here to be able to override the default hidden behavior on the sphinx rendered scikit-learn.org. See: https://github.com/scikit-learn/scikit-learn/issues/21755 */display: inline-block !important;position: relative;}#sk-container-id-5 div.sk-text-repr-fallback {display: none;}</style><div id=\"sk-container-id-5\" class=\"sk-top-container\"><div class=\"sk-text-repr-fallback\"><pre>DecisionTreeClassifier(criterion=&#x27;entropy&#x27;)</pre><b>In a Jupyter environment, please rerun this cell to show the HTML representation or trust the notebook. <br />On GitHub, the HTML representation is unable to render, please try loading this page with nbviewer.org.</b></div><div class=\"sk-container\" hidden><div class=\"sk-item\"><div class=\"sk-estimator sk-toggleable\"><input class=\"sk-toggleable__control sk-hidden--visually\" id=\"sk-estimator-id-5\" type=\"checkbox\" checked><label for=\"sk-estimator-id-5\" class=\"sk-toggleable__label sk-toggleable__label-arrow\">DecisionTreeClassifier</label><div class=\"sk-toggleable__content\"><pre>DecisionTreeClassifier(criterion=&#x27;entropy&#x27;)</pre></div></div></div></div></div>"
      ],
      "text/plain": [
       "DecisionTreeClassifier(criterion='entropy')"
      ]
     },
     "execution_count": 47,
     "metadata": {},
     "output_type": "execute_result"
    }
   ],
   "source": [
    "model = DecisionTreeClassifier(criterion = 'entropy')\n",
    "model.fit(x_train,y_train) "
   ]
  },
  {
   "cell_type": "code",
   "execution_count": 48,
   "id": "17843cb2",
   "metadata": {
    "ExecuteTime": {
     "end_time": "2023-05-22T15:12:38.446025Z",
     "start_time": "2023-05-22T15:12:34.585985Z"
    }
   },
   "outputs": [
    {
     "data": {
      "text/plain": [
       "[Text(0.7645089285714286, 0.9583333333333334, 'x[8] <= 0.5\\nentropy = 1.0\\nsamples = 320\\nvalue = [160, 160]'),\n",
       " Text(0.6004464285714286, 0.875, 'x[4] <= 125.5\\nentropy = 0.973\\nsamples = 255\\nvalue = [103, 152]'),\n",
       " Text(0.41517857142857145, 0.7916666666666666, 'x[2] <= 6.5\\nentropy = 0.998\\nsamples = 170\\nvalue = [90, 80]'),\n",
       " Text(0.26339285714285715, 0.7083333333333334, 'x[0] <= 131.5\\nentropy = 0.963\\nsamples = 98\\nvalue = [38, 60]'),\n",
       " Text(0.15178571428571427, 0.625, 'x[4] <= 102.5\\nentropy = 0.873\\nsamples = 75\\nvalue = [22, 53]'),\n",
       " Text(0.08928571428571429, 0.5416666666666666, 'x[5] <= 35.0\\nentropy = 0.999\\nsamples = 37\\nvalue = [19, 18]'),\n",
       " Text(0.07142857142857142, 0.4583333333333333, 'entropy = 0.0\\nsamples = 5\\nvalue = [5, 0]'),\n",
       " Text(0.10714285714285714, 0.4583333333333333, 'x[2] <= 2.5\\nentropy = 0.989\\nsamples = 32\\nvalue = [14, 18]'),\n",
       " Text(0.08928571428571429, 0.375, 'x[7] <= 0.5\\nentropy = 0.999\\nsamples = 27\\nvalue = [14, 13]'),\n",
       " Text(0.05357142857142857, 0.2916666666666667, 'x[3] <= 216.5\\nentropy = 0.9\\nsamples = 19\\nvalue = [13, 6]'),\n",
       " Text(0.03571428571428571, 0.20833333333333334, 'x[4] <= 86.5\\nentropy = 0.994\\nsamples = 11\\nvalue = [5, 6]'),\n",
       " Text(0.017857142857142856, 0.125, 'entropy = 0.0\\nsamples = 4\\nvalue = [4, 0]'),\n",
       " Text(0.05357142857142857, 0.125, 'x[2] <= 0.5\\nentropy = 0.592\\nsamples = 7\\nvalue = [1, 6]'),\n",
       " Text(0.03571428571428571, 0.041666666666666664, 'entropy = 0.0\\nsamples = 6\\nvalue = [0, 6]'),\n",
       " Text(0.07142857142857142, 0.041666666666666664, 'entropy = 0.0\\nsamples = 1\\nvalue = [1, 0]'),\n",
       " Text(0.07142857142857142, 0.20833333333333334, 'entropy = 0.0\\nsamples = 8\\nvalue = [8, 0]'),\n",
       " Text(0.125, 0.2916666666666667, 'x[6] <= 10.5\\nentropy = 0.544\\nsamples = 8\\nvalue = [1, 7]'),\n",
       " Text(0.10714285714285714, 0.20833333333333334, 'entropy = 0.0\\nsamples = 1\\nvalue = [1, 0]'),\n",
       " Text(0.14285714285714285, 0.20833333333333334, 'entropy = 0.0\\nsamples = 7\\nvalue = [0, 7]'),\n",
       " Text(0.125, 0.375, 'entropy = 0.0\\nsamples = 5\\nvalue = [0, 5]'),\n",
       " Text(0.21428571428571427, 0.5416666666666666, 'x[5] <= 25.5\\nentropy = 0.398\\nsamples = 38\\nvalue = [3, 35]'),\n",
       " Text(0.17857142857142858, 0.4583333333333333, 'x[12] <= 0.5\\nentropy = 0.918\\nsamples = 3\\nvalue = [2, 1]'),\n",
       " Text(0.16071428571428573, 0.375, 'entropy = 0.0\\nsamples = 1\\nvalue = [1, 0]'),\n",
       " Text(0.19642857142857142, 0.375, 'x[3] <= 235.0\\nentropy = 1.0\\nsamples = 2\\nvalue = [1, 1]'),\n",
       " Text(0.17857142857142858, 0.2916666666666667, 'entropy = 0.0\\nsamples = 1\\nvalue = [1, 0]'),\n",
       " Text(0.21428571428571427, 0.2916666666666667, 'entropy = 0.0\\nsamples = 1\\nvalue = [0, 1]'),\n",
       " Text(0.25, 0.4583333333333333, 'x[3] <= 492.0\\nentropy = 0.187\\nsamples = 35\\nvalue = [1, 34]'),\n",
       " Text(0.23214285714285715, 0.375, 'entropy = 0.0\\nsamples = 32\\nvalue = [0, 32]'),\n",
       " Text(0.26785714285714285, 0.375, 'x[3] <= 497.0\\nentropy = 0.918\\nsamples = 3\\nvalue = [1, 2]'),\n",
       " Text(0.25, 0.2916666666666667, 'entropy = 0.0\\nsamples = 1\\nvalue = [1, 0]'),\n",
       " Text(0.2857142857142857, 0.2916666666666667, 'entropy = 0.0\\nsamples = 2\\nvalue = [0, 2]'),\n",
       " Text(0.375, 0.625, 'x[5] <= 77.5\\nentropy = 0.887\\nsamples = 23\\nvalue = [16, 7]'),\n",
       " Text(0.35714285714285715, 0.5416666666666666, 'x[3] <= 68.5\\nentropy = 0.722\\nsamples = 20\\nvalue = [16, 4]'),\n",
       " Text(0.32142857142857145, 0.4583333333333333, 'x[4] <= 111.5\\nentropy = 0.811\\nsamples = 4\\nvalue = [1, 3]'),\n",
       " Text(0.30357142857142855, 0.375, 'entropy = 0.0\\nsamples = 1\\nvalue = [1, 0]'),\n",
       " Text(0.3392857142857143, 0.375, 'entropy = 0.0\\nsamples = 3\\nvalue = [0, 3]'),\n",
       " Text(0.39285714285714285, 0.4583333333333333, 'x[1] <= 38.0\\nentropy = 0.337\\nsamples = 16\\nvalue = [15, 1]'),\n",
       " Text(0.375, 0.375, 'x[0] <= 136.5\\nentropy = 0.918\\nsamples = 3\\nvalue = [2, 1]'),\n",
       " Text(0.35714285714285715, 0.2916666666666667, 'entropy = 0.0\\nsamples = 1\\nvalue = [0, 1]'),\n",
       " Text(0.39285714285714285, 0.2916666666666667, 'entropy = 0.0\\nsamples = 2\\nvalue = [2, 0]'),\n",
       " Text(0.4107142857142857, 0.375, 'entropy = 0.0\\nsamples = 13\\nvalue = [13, 0]'),\n",
       " Text(0.39285714285714285, 0.5416666666666666, 'entropy = 0.0\\nsamples = 3\\nvalue = [0, 3]'),\n",
       " Text(0.5669642857142857, 0.7083333333333334, 'x[0] <= 123.5\\nentropy = 0.852\\nsamples = 72\\nvalue = [52, 20]'),\n",
       " Text(0.49107142857142855, 0.625, 'x[1] <= 57.0\\nentropy = 0.996\\nsamples = 41\\nvalue = [22, 19]'),\n",
       " Text(0.44642857142857145, 0.5416666666666666, 'x[4] <= 85.0\\nentropy = 0.391\\nsamples = 13\\nvalue = [1, 12]'),\n",
       " Text(0.42857142857142855, 0.4583333333333333, 'entropy = 0.0\\nsamples = 1\\nvalue = [1, 0]'),\n",
       " Text(0.4642857142857143, 0.4583333333333333, 'entropy = 0.0\\nsamples = 12\\nvalue = [0, 12]'),\n",
       " Text(0.5357142857142857, 0.5416666666666666, 'x[6] <= 12.5\\nentropy = 0.811\\nsamples = 28\\nvalue = [21, 7]'),\n",
       " Text(0.5, 0.4583333333333333, 'x[5] <= 59.5\\nentropy = 0.994\\nsamples = 11\\nvalue = [5, 6]'),\n",
       " Text(0.48214285714285715, 0.375, 'x[2] <= 7.5\\nentropy = 0.65\\nsamples = 6\\nvalue = [5, 1]'),\n",
       " Text(0.4642857142857143, 0.2916666666666667, 'entropy = 0.0\\nsamples = 1\\nvalue = [0, 1]'),\n",
       " Text(0.5, 0.2916666666666667, 'entropy = 0.0\\nsamples = 5\\nvalue = [5, 0]'),\n",
       " Text(0.5178571428571429, 0.375, 'entropy = 0.0\\nsamples = 5\\nvalue = [0, 5]'),\n",
       " Text(0.5714285714285714, 0.4583333333333333, 'x[3] <= 53.5\\nentropy = 0.323\\nsamples = 17\\nvalue = [16, 1]'),\n",
       " Text(0.5535714285714286, 0.375, 'x[4] <= 112.5\\nentropy = 0.918\\nsamples = 3\\nvalue = [2, 1]'),\n",
       " Text(0.5357142857142857, 0.2916666666666667, 'entropy = 0.0\\nsamples = 2\\nvalue = [2, 0]'),\n",
       " Text(0.5714285714285714, 0.2916666666666667, 'entropy = 0.0\\nsamples = 1\\nvalue = [0, 1]'),\n",
       " Text(0.5892857142857143, 0.375, 'entropy = 0.0\\nsamples = 14\\nvalue = [14, 0]'),\n",
       " Text(0.6428571428571429, 0.625, 'x[2] <= 10.5\\nentropy = 0.206\\nsamples = 31\\nvalue = [30, 1]'),\n",
       " Text(0.625, 0.5416666666666666, 'x[6] <= 15.5\\nentropy = 0.592\\nsamples = 7\\nvalue = [6, 1]'),\n",
       " Text(0.6071428571428571, 0.4583333333333333, 'entropy = 0.0\\nsamples = 6\\nvalue = [6, 0]'),\n",
       " Text(0.6428571428571429, 0.4583333333333333, 'entropy = 0.0\\nsamples = 1\\nvalue = [0, 1]'),\n",
       " Text(0.6607142857142857, 0.5416666666666666, 'entropy = 0.0\\nsamples = 24\\nvalue = [24, 0]'),\n",
       " Text(0.7857142857142857, 0.7916666666666666, 'x[2] <= 23.0\\nentropy = 0.617\\nsamples = 85\\nvalue = [13, 72]'),\n",
       " Text(0.7678571428571429, 0.7083333333333334, 'x[0] <= 134.5\\nentropy = 0.535\\nsamples = 82\\nvalue = [10, 72]'),\n",
       " Text(0.7142857142857143, 0.625, 'x[2] <= 18.5\\nentropy = 0.169\\nsamples = 40\\nvalue = [1, 39]'),\n",
       " Text(0.6964285714285714, 0.5416666666666666, 'entropy = 0.0\\nsamples = 37\\nvalue = [0, 37]'),\n",
       " Text(0.7321428571428571, 0.5416666666666666, 'x[6] <= 10.5\\nentropy = 0.918\\nsamples = 3\\nvalue = [1, 2]'),\n",
       " Text(0.7142857142857143, 0.4583333333333333, 'entropy = 0.0\\nsamples = 1\\nvalue = [1, 0]'),\n",
       " Text(0.75, 0.4583333333333333, 'entropy = 0.0\\nsamples = 2\\nvalue = [0, 2]'),\n",
       " Text(0.8214285714285714, 0.625, 'x[4] <= 145.5\\nentropy = 0.75\\nsamples = 42\\nvalue = [9, 33]'),\n",
       " Text(0.8035714285714286, 0.5416666666666666, 'x[3] <= 370.0\\nentropy = 0.943\\nsamples = 25\\nvalue = [9, 16]'),\n",
       " Text(0.7857142857142857, 0.4583333333333333, 'x[5] <= 47.5\\nentropy = 0.845\\nsamples = 22\\nvalue = [6, 16]'),\n",
       " Text(0.7678571428571429, 0.375, 'x[7] <= 0.5\\nentropy = 0.985\\nsamples = 14\\nvalue = [6, 8]'),\n",
       " Text(0.7142857142857143, 0.2916666666666667, 'x[0] <= 140.0\\nentropy = 0.65\\nsamples = 6\\nvalue = [5, 1]'),\n",
       " Text(0.6964285714285714, 0.20833333333333334, 'entropy = 0.0\\nsamples = 4\\nvalue = [4, 0]'),\n",
       " Text(0.7321428571428571, 0.20833333333333334, 'x[6] <= 13.5\\nentropy = 1.0\\nsamples = 2\\nvalue = [1, 1]'),\n",
       " Text(0.7142857142857143, 0.125, 'entropy = 0.0\\nsamples = 1\\nvalue = [1, 0]'),\n",
       " Text(0.75, 0.125, 'entropy = 0.0\\nsamples = 1\\nvalue = [0, 1]'),\n",
       " Text(0.8214285714285714, 0.2916666666666667, 'x[3] <= 140.0\\nentropy = 0.544\\nsamples = 8\\nvalue = [1, 7]'),\n",
       " Text(0.8035714285714286, 0.20833333333333334, 'x[1] <= 37.5\\nentropy = 1.0\\nsamples = 2\\nvalue = [1, 1]'),\n",
       " Text(0.7857142857142857, 0.125, 'entropy = 0.0\\nsamples = 1\\nvalue = [0, 1]'),\n",
       " Text(0.8214285714285714, 0.125, 'entropy = 0.0\\nsamples = 1\\nvalue = [1, 0]'),\n",
       " Text(0.8392857142857143, 0.20833333333333334, 'entropy = 0.0\\nsamples = 6\\nvalue = [0, 6]'),\n",
       " Text(0.8035714285714286, 0.375, 'entropy = 0.0\\nsamples = 8\\nvalue = [0, 8]'),\n",
       " Text(0.8214285714285714, 0.4583333333333333, 'entropy = 0.0\\nsamples = 3\\nvalue = [3, 0]'),\n",
       " Text(0.8392857142857143, 0.5416666666666666, 'entropy = 0.0\\nsamples = 17\\nvalue = [0, 17]'),\n",
       " Text(0.8035714285714286, 0.7083333333333334, 'entropy = 0.0\\nsamples = 3\\nvalue = [3, 0]'),\n",
       " Text(0.9285714285714286, 0.875, 'x[4] <= 132.0\\nentropy = 0.538\\nsamples = 65\\nvalue = [57, 8]'),\n",
       " Text(0.8928571428571429, 0.7916666666666666, 'x[5] <= 27.5\\nentropy = 0.141\\nsamples = 50\\nvalue = [49, 1]'),\n",
       " Text(0.875, 0.7083333333333334, 'x[3] <= 269.0\\nentropy = 1.0\\nsamples = 2\\nvalue = [1, 1]'),\n",
       " Text(0.8571428571428571, 0.625, 'entropy = 0.0\\nsamples = 1\\nvalue = [0, 1]'),\n",
       " Text(0.8928571428571429, 0.625, 'entropy = 0.0\\nsamples = 1\\nvalue = [1, 0]'),\n",
       " Text(0.9107142857142857, 0.7083333333333334, 'entropy = 0.0\\nsamples = 48\\nvalue = [48, 0]'),\n",
       " Text(0.9642857142857143, 0.7916666666666666, 'x[0] <= 144.0\\nentropy = 0.997\\nsamples = 15\\nvalue = [8, 7]'),\n",
       " Text(0.9464285714285714, 0.7083333333333334, 'x[2] <= 9.0\\nentropy = 0.881\\nsamples = 10\\nvalue = [3, 7]'),\n",
       " Text(0.9285714285714286, 0.625, 'x[3] <= 162.5\\nentropy = 0.544\\nsamples = 8\\nvalue = [1, 7]'),\n",
       " Text(0.9107142857142857, 0.5416666666666666, 'x[12] <= 0.5\\nentropy = 1.0\\nsamples = 2\\nvalue = [1, 1]'),\n",
       " Text(0.8928571428571429, 0.4583333333333333, 'entropy = 0.0\\nsamples = 1\\nvalue = [1, 0]'),\n",
       " Text(0.9285714285714286, 0.4583333333333333, 'entropy = 0.0\\nsamples = 1\\nvalue = [0, 1]'),\n",
       " Text(0.9464285714285714, 0.5416666666666666, 'entropy = 0.0\\nsamples = 6\\nvalue = [0, 6]'),\n",
       " Text(0.9642857142857143, 0.625, 'entropy = 0.0\\nsamples = 2\\nvalue = [2, 0]'),\n",
       " Text(0.9821428571428571, 0.7083333333333334, 'entropy = 0.0\\nsamples = 5\\nvalue = [5, 0]')]"
      ]
     },
     "execution_count": 48,
     "metadata": {},
     "output_type": "execute_result"
    },
    {
     "data": {
      "image/png": "[encoded data removed]",
      "text/plain": [
       "<Figure size 640x480 with 1 Axes>"
      ]
     },
     "metadata": {},
     "output_type": "display_data"
    }
   ],
   "source": [
    "#PLot the decision tree\n",
    "tree.plot_tree(model)"
   ]
  },
  {
   "cell_type": "code",
   "execution_count": 49,
   "id": "bd2292c6",
   "metadata": {
    "ExecuteTime": {
     "end_time": "2023-05-22T15:12:38.523816Z",
     "start_time": "2023-05-22T15:12:38.511848Z"
    }
   },
   "outputs": [
    {
     "name": "stdout",
     "output_type": "stream",
     "text": [
      "|--- feature_8 <= 0.50\n",
      "|   |--- feature_4 <= 125.50\n",
      "|   |   |--- feature_2 <= 6.50\n",
      "|   |   |   |--- feature_0 <= 131.50\n",
      "|   |   |   |   |--- feature_4 <= 102.50\n",
      "|   |   |   |   |   |--- feature_5 <= 35.00\n",
      "|   |   |   |   |   |   |--- class: High Sales\n",
      "|   |   |   |   |   |--- feature_5 >  35.00\n",
      "|   |   |   |   |   |   |--- feature_2 <= 2.50\n",
      "|   |   |   |   |   |   |   |--- feature_7 <= 0.50\n",
      "|   |   |   |   |   |   |   |   |--- feature_3 <= 216.50\n",
      "|   |   |   |   |   |   |   |   |   |--- feature_4 <= 86.50\n",
      "|   |   |   |   |   |   |   |   |   |   |--- class: High Sales\n",
      "|   |   |   |   |   |   |   |   |   |--- feature_4 >  86.50\n",
      "|   |   |   |   |   |   |   |   |   |   |--- feature_2 <= 0.50\n",
      "|   |   |   |   |   |   |   |   |   |   |   |--- class: Low Sales\n",
      "|   |   |   |   |   |   |   |   |   |   |--- feature_2 >  0.50\n",
      "|   |   |   |   |   |   |   |   |   |   |   |--- class: High Sales\n",
      "|   |   |   |   |   |   |   |   |--- feature_3 >  216.50\n",
      "|   |   |   |   |   |   |   |   |   |--- class: High Sales\n",
      "|   |   |   |   |   |   |   |--- feature_7 >  0.50\n",
      "|   |   |   |   |   |   |   |   |--- feature_6 <= 10.50\n",
      "|   |   |   |   |   |   |   |   |   |--- class: High Sales\n",
      "|   |   |   |   |   |   |   |   |--- feature_6 >  10.50\n",
      "|   |   |   |   |   |   |   |   |   |--- class: Low Sales\n",
      "|   |   |   |   |   |   |--- feature_2 >  2.50\n",
      "|   |   |   |   |   |   |   |--- class: Low Sales\n",
      "|   |   |   |   |--- feature_4 >  102.50\n",
      "|   |   |   |   |   |--- feature_5 <= 25.50\n",
      "|   |   |   |   |   |   |--- feature_12 <= 0.50\n",
      "|   |   |   |   |   |   |   |--- class: High Sales\n",
      "|   |   |   |   |   |   |--- feature_12 >  0.50\n",
      "|   |   |   |   |   |   |   |--- feature_3 <= 235.00\n",
      "|   |   |   |   |   |   |   |   |--- class: High Sales\n",
      "|   |   |   |   |   |   |   |--- feature_3 >  235.00\n",
      "|   |   |   |   |   |   |   |   |--- class: Low Sales\n",
      "|   |   |   |   |   |--- feature_5 >  25.50\n",
      "|   |   |   |   |   |   |--- feature_3 <= 492.00\n",
      "|   |   |   |   |   |   |   |--- class: Low Sales\n",
      "|   |   |   |   |   |   |--- feature_3 >  492.00\n",
      "|   |   |   |   |   |   |   |--- feature_3 <= 497.00\n",
      "|   |   |   |   |   |   |   |   |--- class: High Sales\n",
      "|   |   |   |   |   |   |   |--- feature_3 >  497.00\n",
      "|   |   |   |   |   |   |   |   |--- class: Low Sales\n",
      "|   |   |   |--- feature_0 >  131.50\n",
      "|   |   |   |   |--- feature_5 <= 77.50\n",
      "|   |   |   |   |   |--- feature_3 <= 68.50\n",
      "|   |   |   |   |   |   |--- feature_4 <= 111.50\n",
      "|   |   |   |   |   |   |   |--- class: High Sales\n",
      "|   |   |   |   |   |   |--- feature_4 >  111.50\n",
      "|   |   |   |   |   |   |   |--- class: Low Sales\n",
      "|   |   |   |   |   |--- feature_3 >  68.50\n",
      "|   |   |   |   |   |   |--- feature_1 <= 38.00\n",
      "|   |   |   |   |   |   |   |--- feature_0 <= 136.50\n",
      "|   |   |   |   |   |   |   |   |--- class: Low Sales\n",
      "|   |   |   |   |   |   |   |--- feature_0 >  136.50\n",
      "|   |   |   |   |   |   |   |   |--- class: High Sales\n",
      "|   |   |   |   |   |   |--- feature_1 >  38.00\n",
      "|   |   |   |   |   |   |   |--- class: High Sales\n",
      "|   |   |   |   |--- feature_5 >  77.50\n",
      "|   |   |   |   |   |--- class: Low Sales\n",
      "|   |   |--- feature_2 >  6.50\n",
      "|   |   |   |--- feature_0 <= 123.50\n",
      "|   |   |   |   |--- feature_1 <= 57.00\n",
      "|   |   |   |   |   |--- feature_4 <= 85.00\n",
      "|   |   |   |   |   |   |--- class: High Sales\n",
      "|   |   |   |   |   |--- feature_4 >  85.00\n",
      "|   |   |   |   |   |   |--- class: Low Sales\n",
      "|   |   |   |   |--- feature_1 >  57.00\n",
      "|   |   |   |   |   |--- feature_6 <= 12.50\n",
      "|   |   |   |   |   |   |--- feature_5 <= 59.50\n",
      "|   |   |   |   |   |   |   |--- feature_2 <= 7.50\n",
      "|   |   |   |   |   |   |   |   |--- class: Low Sales\n",
      "|   |   |   |   |   |   |   |--- feature_2 >  7.50\n",
      "|   |   |   |   |   |   |   |   |--- class: High Sales\n",
      "|   |   |   |   |   |   |--- feature_5 >  59.50\n",
      "|   |   |   |   |   |   |   |--- class: Low Sales\n",
      "|   |   |   |   |   |--- feature_6 >  12.50\n",
      "|   |   |   |   |   |   |--- feature_3 <= 53.50\n",
      "|   |   |   |   |   |   |   |--- feature_4 <= 112.50\n",
      "|   |   |   |   |   |   |   |   |--- class: High Sales\n",
      "|   |   |   |   |   |   |   |--- feature_4 >  112.50\n",
      "|   |   |   |   |   |   |   |   |--- class: Low Sales\n",
      "|   |   |   |   |   |   |--- feature_3 >  53.50\n",
      "|   |   |   |   |   |   |   |--- class: High Sales\n",
      "|   |   |   |--- feature_0 >  123.50\n",
      "|   |   |   |   |--- feature_2 <= 10.50\n",
      "|   |   |   |   |   |--- feature_6 <= 15.50\n",
      "|   |   |   |   |   |   |--- class: High Sales\n",
      "|   |   |   |   |   |--- feature_6 >  15.50\n",
      "|   |   |   |   |   |   |--- class: Low Sales\n",
      "|   |   |   |   |--- feature_2 >  10.50\n",
      "|   |   |   |   |   |--- class: High Sales\n",
      "|   |--- feature_4 >  125.50\n",
      "|   |   |--- feature_2 <= 23.00\n",
      "|   |   |   |--- feature_0 <= 134.50\n",
      "|   |   |   |   |--- feature_2 <= 18.50\n",
      "|   |   |   |   |   |--- class: Low Sales\n",
      "|   |   |   |   |--- feature_2 >  18.50\n",
      "|   |   |   |   |   |--- feature_6 <= 10.50\n",
      "|   |   |   |   |   |   |--- class: High Sales\n",
      "|   |   |   |   |   |--- feature_6 >  10.50\n",
      "|   |   |   |   |   |   |--- class: Low Sales\n",
      "|   |   |   |--- feature_0 >  134.50\n",
      "|   |   |   |   |--- feature_4 <= 145.50\n",
      "|   |   |   |   |   |--- feature_3 <= 370.00\n",
      "|   |   |   |   |   |   |--- feature_5 <= 47.50\n",
      "|   |   |   |   |   |   |   |--- feature_7 <= 0.50\n",
      "|   |   |   |   |   |   |   |   |--- feature_0 <= 140.00\n",
      "|   |   |   |   |   |   |   |   |   |--- class: High Sales\n",
      "|   |   |   |   |   |   |   |   |--- feature_0 >  140.00\n",
      "|   |   |   |   |   |   |   |   |   |--- feature_6 <= 13.50\n",
      "|   |   |   |   |   |   |   |   |   |   |--- class: High Sales\n",
      "|   |   |   |   |   |   |   |   |   |--- feature_6 >  13.50\n",
      "|   |   |   |   |   |   |   |   |   |   |--- class: Low Sales\n",
      "|   |   |   |   |   |   |   |--- feature_7 >  0.50\n",
      "|   |   |   |   |   |   |   |   |--- feature_3 <= 140.00\n",
      "|   |   |   |   |   |   |   |   |   |--- feature_1 <= 37.50\n",
      "|   |   |   |   |   |   |   |   |   |   |--- class: Low Sales\n",
      "|   |   |   |   |   |   |   |   |   |--- feature_1 >  37.50\n",
      "|   |   |   |   |   |   |   |   |   |   |--- class: High Sales\n",
      "|   |   |   |   |   |   |   |   |--- feature_3 >  140.00\n",
      "|   |   |   |   |   |   |   |   |   |--- class: Low Sales\n",
      "|   |   |   |   |   |   |--- feature_5 >  47.50\n",
      "|   |   |   |   |   |   |   |--- class: Low Sales\n",
      "|   |   |   |   |   |--- feature_3 >  370.00\n",
      "|   |   |   |   |   |   |--- class: High Sales\n",
      "|   |   |   |   |--- feature_4 >  145.50\n",
      "|   |   |   |   |   |--- class: Low Sales\n",
      "|   |   |--- feature_2 >  23.00\n",
      "|   |   |   |--- class: High Sales\n",
      "|--- feature_8 >  0.50\n",
      "|   |--- feature_4 <= 132.00\n",
      "|   |   |--- feature_5 <= 27.50\n",
      "|   |   |   |--- feature_3 <= 269.00\n",
      "|   |   |   |   |--- class: Low Sales\n",
      "|   |   |   |--- feature_3 >  269.00\n",
      "|   |   |   |   |--- class: High Sales\n",
      "|   |   |--- feature_5 >  27.50\n",
      "|   |   |   |--- class: High Sales\n",
      "|   |--- feature_4 >  132.00\n",
      "|   |   |--- feature_0 <= 144.00\n",
      "|   |   |   |--- feature_2 <= 9.00\n",
      "|   |   |   |   |--- feature_3 <= 162.50\n",
      "|   |   |   |   |   |--- feature_12 <= 0.50\n",
      "|   |   |   |   |   |   |--- class: High Sales\n",
      "|   |   |   |   |   |--- feature_12 >  0.50\n",
      "|   |   |   |   |   |   |--- class: Low Sales\n",
      "|   |   |   |   |--- feature_3 >  162.50\n",
      "|   |   |   |   |   |--- class: Low Sales\n",
      "|   |   |   |--- feature_2 >  9.00\n",
      "|   |   |   |   |--- class: High Sales\n",
      "|   |   |--- feature_0 >  144.00\n",
      "|   |   |   |--- class: High Sales\n",
      "\n"
     ]
    }
   ],
   "source": [
    "text = tree.export_text(model)  \n",
    "print(text) "
   ]
  },
  {
   "cell_type": "code",
   "execution_count": 50,
   "id": "1994decd",
   "metadata": {
    "ExecuteTime": {
     "end_time": "2023-05-22T15:12:45.504783Z",
     "start_time": "2023-05-22T15:12:45.482842Z"
    }
   },
   "outputs": [
    {
     "data": {
      "text/plain": [
       "High Sales    49\n",
       "Low Sales     31\n",
       "dtype: int64"
      ]
     },
     "execution_count": 50,
     "metadata": {},
     "output_type": "execute_result"
    }
   ],
   "source": [
    "#Predicting on test data\n",
    "preds = model.predict(x_test) # predicting on test data set \n",
    "pd.Series(preds).value_counts() # getting the count of each category  "
   ]
  },
  {
   "cell_type": "code",
   "execution_count": 51,
   "id": "49e43985",
   "metadata": {
    "ExecuteTime": {
     "end_time": "2023-05-22T15:12:46.407814Z",
     "start_time": "2023-05-22T15:12:46.385901Z"
    }
   },
   "outputs": [
    {
     "data": {
      "text/plain": [
       "array(['High Sales', 'Low Sales', 'High Sales', 'High Sales', 'Low Sales',\n",
       "       'High Sales', 'Low Sales', 'High Sales', 'High Sales',\n",
       "       'High Sales', 'High Sales', 'High Sales', 'Low Sales', 'Low Sales',\n",
       "       'High Sales', 'Low Sales', 'High Sales', 'High Sales',\n",
       "       'High Sales', 'High Sales', 'High Sales', 'High Sales',\n",
       "       'Low Sales', 'High Sales', 'High Sales', 'Low Sales', 'High Sales',\n",
       "       'Low Sales', 'Low Sales', 'High Sales', 'High Sales', 'High Sales',\n",
       "       'Low Sales', 'High Sales', 'Low Sales', 'High Sales', 'High Sales',\n",
       "       'Low Sales', 'High Sales', 'High Sales', 'Low Sales', 'High Sales',\n",
       "       'High Sales', 'High Sales', 'Low Sales', 'Low Sales', 'Low Sales',\n",
       "       'High Sales', 'High Sales', 'Low Sales', 'Low Sales', 'High Sales',\n",
       "       'Low Sales', 'High Sales', 'Low Sales', 'Low Sales', 'High Sales',\n",
       "       'High Sales', 'Low Sales', 'High Sales', 'High Sales',\n",
       "       'High Sales', 'High Sales', 'High Sales', 'Low Sales', 'Low Sales',\n",
       "       'Low Sales', 'Low Sales', 'High Sales', 'Low Sales', 'Low Sales',\n",
       "       'Low Sales', 'High Sales', 'High Sales', 'High Sales', 'Low Sales',\n",
       "       'High Sales', 'High Sales', 'High Sales', 'High Sales'],\n",
       "      dtype=object)"
      ]
     },
     "execution_count": 51,
     "metadata": {},
     "output_type": "execute_result"
    }
   ],
   "source": [
    "preds"
   ]
  },
  {
   "cell_type": "code",
   "execution_count": 52,
   "id": "2ad945a2",
   "metadata": {
    "ExecuteTime": {
     "end_time": "2023-05-22T15:12:47.152889Z",
     "start_time": "2023-05-22T15:12:47.122944Z"
    }
   },
   "outputs": [
    {
     "data": {
      "text/html": [
       "<div>\n",
       "<style scoped>\n",
       "    .dataframe tbody tr th:only-of-type {\n",
       "        vertical-align: middle;\n",
       "    }\n",
       "\n",
       "    .dataframe tbody tr th {\n",
       "        vertical-align: top;\n",
       "    }\n",
       "\n",
       "    .dataframe thead th {\n",
       "        text-align: right;\n",
       "    }\n",
       "</style>\n",
       "<table border=\"1\" class=\"dataframe\">\n",
       "  <thead>\n",
       "    <tr style=\"text-align: right;\">\n",
       "      <th>col_0</th>\n",
       "      <th>High Sales</th>\n",
       "      <th>Low Sales</th>\n",
       "    </tr>\n",
       "    <tr>\n",
       "      <th>Sales</th>\n",
       "      <th></th>\n",
       "      <th></th>\n",
       "    </tr>\n",
       "  </thead>\n",
       "  <tbody>\n",
       "    <tr>\n",
       "      <th>High Sales</th>\n",
       "      <td>35</td>\n",
       "      <td>6</td>\n",
       "    </tr>\n",
       "    <tr>\n",
       "      <th>Low Sales</th>\n",
       "      <td>14</td>\n",
       "      <td>25</td>\n",
       "    </tr>\n",
       "  </tbody>\n",
       "</table>\n",
       "</div>"
      ],
      "text/plain": [
       "col_0       High Sales  Low Sales\n",
       "Sales                            \n",
       "High Sales          35          6\n",
       "Low Sales           14         25"
      ]
     },
     "execution_count": 52,
     "metadata": {},
     "output_type": "execute_result"
    }
   ],
   "source": [
    "pd.crosstab(y_test,preds)  # getting the 2 way table to understand the correct and wrong predictions"
   ]
  },
  {
   "cell_type": "code",
   "execution_count": 53,
   "id": "b2f970fb",
   "metadata": {
    "ExecuteTime": {
     "end_time": "2023-05-22T15:12:47.697423Z",
     "start_time": "2023-05-22T15:12:47.690438Z"
    }
   },
   "outputs": [
    {
     "data": {
      "text/plain": [
       "0.75"
      ]
     },
     "execution_count": 53,
     "metadata": {},
     "output_type": "execute_result"
    }
   ],
   "source": [
    "# Accuracy \n",
    "np.mean(preds==y_test)"
   ]
  },
  {
   "cell_type": "markdown",
   "id": "ae4895a2",
   "metadata": {
    "ExecuteTime": {
     "end_time": "2023-05-22T15:01:28.260992Z",
     "start_time": "2023-05-22T15:01:27.580810Z"
    }
   },
   "source": [
    "### Building Decision Tree Classifier (CART) using Gini Criteria"
   ]
  },
  {
   "cell_type": "code",
   "execution_count": 42,
   "id": "e75ef620",
   "metadata": {
    "ExecuteTime": {
     "end_time": "2023-05-22T15:11:21.502914Z",
     "start_time": "2023-05-22T15:11:21.482270Z"
    }
   },
   "outputs": [],
   "source": [
    "from sklearn.tree import DecisionTreeClassifier\n",
    "model_gini = DecisionTreeClassifier(criterion='gini') "
   ]
  },
  {
   "cell_type": "code",
   "execution_count": 43,
   "id": "3f52d583",
   "metadata": {
    "ExecuteTime": {
     "end_time": "2023-05-22T15:11:22.418756Z",
     "start_time": "2023-05-22T15:11:22.394776Z"
    }
   },
   "outputs": [
    {
     "data": {
      "text/html": [
       "<style>#sk-container-id-4 {color: black;background-color: white;}#sk-container-id-4 pre{padding: 0;}#sk-container-id-4 div.sk-toggleable {background-color: white;}#sk-container-id-4 label.sk-toggleable__label {cursor: pointer;display: block;width: 100%;margin-bottom: 0;padding: 0.3em;box-sizing: border-box;text-align: center;}#sk-container-id-4 label.sk-toggleable__label-arrow:before {content: \"▸\";float: left;margin-right: 0.25em;color: #696969;}#sk-container-id-4 label.sk-toggleable__label-arrow:hover:before {color: black;}#sk-container-id-4 div.sk-estimator:hover label.sk-toggleable__label-arrow:before {color: black;}#sk-container-id-4 div.sk-toggleable__content {max-height: 0;max-width: 0;overflow: hidden;text-align: left;background-color: #f0f8ff;}#sk-container-id-4 div.sk-toggleable__content pre {margin: 0.2em;color: black;border-radius: 0.25em;background-color: #f0f8ff;}#sk-container-id-4 input.sk-toggleable__control:checked~div.sk-toggleable__content {max-height: 200px;max-width: 100%;overflow: auto;}#sk-container-id-4 input.sk-toggleable__control:checked~label.sk-toggleable__label-arrow:before {content: \"▾\";}#sk-container-id-4 div.sk-estimator input.sk-toggleable__control:checked~label.sk-toggleable__label {background-color: #d4ebff;}#sk-container-id-4 div.sk-label input.sk-toggleable__control:checked~label.sk-toggleable__label {background-color: #d4ebff;}#sk-container-id-4 input.sk-hidden--visually {border: 0;clip: rect(1px 1px 1px 1px);clip: rect(1px, 1px, 1px, 1px);height: 1px;margin: -1px;overflow: hidden;padding: 0;position: absolute;width: 1px;}#sk-container-id-4 div.sk-estimator {font-family: monospace;background-color: #f0f8ff;border: 1px dotted black;border-radius: 0.25em;box-sizing: border-box;margin-bottom: 0.5em;}#sk-container-id-4 div.sk-estimator:hover {background-color: #d4ebff;}#sk-container-id-4 div.sk-parallel-item::after {content: \"\";width: 100%;border-bottom: 1px solid gray;flex-grow: 1;}#sk-container-id-4 div.sk-label:hover label.sk-toggleable__label {background-color: #d4ebff;}#sk-container-id-4 div.sk-serial::before {content: \"\";position: absolute;border-left: 1px solid gray;box-sizing: border-box;top: 0;bottom: 0;left: 50%;z-index: 0;}#sk-container-id-4 div.sk-serial {display: flex;flex-direction: column;align-items: center;background-color: white;padding-right: 0.2em;padding-left: 0.2em;position: relative;}#sk-container-id-4 div.sk-item {position: relative;z-index: 1;}#sk-container-id-4 div.sk-parallel {display: flex;align-items: stretch;justify-content: center;background-color: white;position: relative;}#sk-container-id-4 div.sk-item::before, #sk-container-id-4 div.sk-parallel-item::before {content: \"\";position: absolute;border-left: 1px solid gray;box-sizing: border-box;top: 0;bottom: 0;left: 50%;z-index: -1;}#sk-container-id-4 div.sk-parallel-item {display: flex;flex-direction: column;z-index: 1;position: relative;background-color: white;}#sk-container-id-4 div.sk-parallel-item:first-child::after {align-self: flex-end;width: 50%;}#sk-container-id-4 div.sk-parallel-item:last-child::after {align-self: flex-start;width: 50%;}#sk-container-id-4 div.sk-parallel-item:only-child::after {width: 0;}#sk-container-id-4 div.sk-dashed-wrapped {border: 1px dashed gray;margin: 0 0.4em 0.5em 0.4em;box-sizing: border-box;padding-bottom: 0.4em;background-color: white;}#sk-container-id-4 div.sk-label label {font-family: monospace;font-weight: bold;display: inline-block;line-height: 1.2em;}#sk-container-id-4 div.sk-label-container {text-align: center;}#sk-container-id-4 div.sk-container {/* jupyter's `normalize.less` sets `[hidden] { display: none; }` but bootstrap.min.css set `[hidden] { display: none !important; }` so we also need the `!important` here to be able to override the default hidden behavior on the sphinx rendered scikit-learn.org. See: https://github.com/scikit-learn/scikit-learn/issues/21755 */display: inline-block !important;position: relative;}#sk-container-id-4 div.sk-text-repr-fallback {display: none;}</style><div id=\"sk-container-id-4\" class=\"sk-top-container\"><div class=\"sk-text-repr-fallback\"><pre>DecisionTreeClassifier()</pre><b>In a Jupyter environment, please rerun this cell to show the HTML representation or trust the notebook. <br />On GitHub, the HTML representation is unable to render, please try loading this page with nbviewer.org.</b></div><div class=\"sk-container\" hidden><div class=\"sk-item\"><div class=\"sk-estimator sk-toggleable\"><input class=\"sk-toggleable__control sk-hidden--visually\" id=\"sk-estimator-id-4\" type=\"checkbox\" checked><label for=\"sk-estimator-id-4\" class=\"sk-toggleable__label sk-toggleable__label-arrow\">DecisionTreeClassifier</label><div class=\"sk-toggleable__content\"><pre>DecisionTreeClassifier()</pre></div></div></div></div></div>"
      ],
      "text/plain": [
       "DecisionTreeClassifier()"
      ]
     },
     "execution_count": 43,
     "metadata": {},
     "output_type": "execute_result"
    }
   ],
   "source": [
    "model_gini.fit(x_train, y_train) "
   ]
  },
  {
   "cell_type": "code",
   "execution_count": 44,
   "id": "5d7e3ba8",
   "metadata": {
    "ExecuteTime": {
     "end_time": "2023-05-22T15:11:27.785960Z",
     "start_time": "2023-05-22T15:11:23.668093Z"
    }
   },
   "outputs": [
    {
     "data": {
      "text/plain": [
       "[Text(0.74375, 0.9615384615384616, 'x[8] <= 0.5\\ngini = 0.5\\nsamples = 320\\nvalue = [160, 160]'),\n",
       " Text(0.5375, 0.8846153846153846, 'x[4] <= 124.5\\ngini = 0.482\\nsamples = 255\\nvalue = [103, 152]'),\n",
       " Text(0.32916666666666666, 0.8076923076923077, 'x[2] <= 6.5\\ngini = 0.498\\nsamples = 167\\nvalue = [89, 78]'),\n",
       " Text(0.17916666666666667, 0.7307692307692307, 'x[4] <= 100.5\\ngini = 0.474\\nsamples = 96\\nvalue = [37, 59]'),\n",
       " Text(0.1, 0.6538461538461539, 'x[5] <= 66.5\\ngini = 0.484\\nsamples = 39\\nvalue = [23, 16]'),\n",
       " Text(0.06666666666666667, 0.5769230769230769, 'x[0] <= 118.5\\ngini = 0.42\\nsamples = 30\\nvalue = [21, 9]'),\n",
       " Text(0.05, 0.5, 'x[4] <= 70.5\\ngini = 0.499\\nsamples = 19\\nvalue = [10, 9]'),\n",
       " Text(0.03333333333333333, 0.4230769230769231, 'gini = 0.0\\nsamples = 4\\nvalue = [4, 0]'),\n",
       " Text(0.06666666666666667, 0.4230769230769231, 'x[3] <= 216.5\\ngini = 0.48\\nsamples = 15\\nvalue = [6, 9]'),\n",
       " Text(0.03333333333333333, 0.34615384615384615, 'x[6] <= 12.0\\ngini = 0.245\\nsamples = 7\\nvalue = [1, 6]'),\n",
       " Text(0.016666666666666666, 0.2692307692307692, 'gini = 0.0\\nsamples = 1\\nvalue = [1, 0]'),\n",
       " Text(0.05, 0.2692307692307692, 'gini = 0.0\\nsamples = 6\\nvalue = [0, 6]'),\n",
       " Text(0.1, 0.34615384615384615, 'x[5] <= 55.5\\ngini = 0.469\\nsamples = 8\\nvalue = [5, 3]'),\n",
       " Text(0.08333333333333333, 0.2692307692307692, 'x[6] <= 14.5\\ngini = 0.375\\nsamples = 4\\nvalue = [1, 3]'),\n",
       " Text(0.06666666666666667, 0.19230769230769232, 'gini = 0.0\\nsamples = 3\\nvalue = [0, 3]'),\n",
       " Text(0.1, 0.19230769230769232, 'gini = 0.0\\nsamples = 1\\nvalue = [1, 0]'),\n",
       " Text(0.11666666666666667, 0.2692307692307692, 'gini = 0.0\\nsamples = 4\\nvalue = [4, 0]'),\n",
       " Text(0.08333333333333333, 0.5, 'gini = 0.0\\nsamples = 11\\nvalue = [11, 0]'),\n",
       " Text(0.13333333333333333, 0.5769230769230769, 'x[3] <= 366.5\\ngini = 0.346\\nsamples = 9\\nvalue = [2, 7]'),\n",
       " Text(0.11666666666666667, 0.5, 'gini = 0.0\\nsamples = 7\\nvalue = [0, 7]'),\n",
       " Text(0.15, 0.5, 'gini = 0.0\\nsamples = 2\\nvalue = [2, 0]'),\n",
       " Text(0.25833333333333336, 0.6538461538461539, 'x[0] <= 141.5\\ngini = 0.371\\nsamples = 57\\nvalue = [14, 43]'),\n",
       " Text(0.21666666666666667, 0.5769230769230769, 'x[5] <= 28.0\\ngini = 0.269\\nsamples = 50\\nvalue = [8, 42]'),\n",
       " Text(0.18333333333333332, 0.5, 'x[4] <= 119.0\\ngini = 0.48\\nsamples = 5\\nvalue = [3, 2]'),\n",
       " Text(0.16666666666666666, 0.4230769230769231, 'x[13] <= 0.5\\ngini = 0.444\\nsamples = 3\\nvalue = [1, 2]'),\n",
       " Text(0.15, 0.34615384615384615, 'gini = 0.0\\nsamples = 2\\nvalue = [0, 2]'),\n",
       " Text(0.18333333333333332, 0.34615384615384615, 'gini = 0.0\\nsamples = 1\\nvalue = [1, 0]'),\n",
       " Text(0.2, 0.4230769230769231, 'gini = 0.0\\nsamples = 2\\nvalue = [2, 0]'),\n",
       " Text(0.25, 0.5, 'x[0] <= 127.0\\ngini = 0.198\\nsamples = 45\\nvalue = [5, 40]'),\n",
       " Text(0.23333333333333334, 0.4230769230769231, 'gini = 0.0\\nsamples = 28\\nvalue = [0, 28]'),\n",
       " Text(0.26666666666666666, 0.4230769230769231, 'x[6] <= 16.5\\ngini = 0.415\\nsamples = 17\\nvalue = [5, 12]'),\n",
       " Text(0.25, 0.34615384615384615, 'x[13] <= 0.5\\ngini = 0.486\\nsamples = 12\\nvalue = [5, 7]'),\n",
       " Text(0.23333333333333334, 0.2692307692307692, 'x[0] <= 134.5\\ngini = 0.469\\nsamples = 8\\nvalue = [5, 3]'),\n",
       " Text(0.21666666666666667, 0.19230769230769232, 'x[0] <= 129.5\\ngini = 0.408\\nsamples = 7\\nvalue = [5, 2]'),\n",
       " Text(0.2, 0.11538461538461539, 'x[4] <= 118.5\\ngini = 0.444\\nsamples = 3\\nvalue = [1, 2]'),\n",
       " Text(0.18333333333333332, 0.038461538461538464, 'gini = 0.0\\nsamples = 2\\nvalue = [0, 2]'),\n",
       " Text(0.21666666666666667, 0.038461538461538464, 'gini = 0.0\\nsamples = 1\\nvalue = [1, 0]'),\n",
       " Text(0.23333333333333334, 0.11538461538461539, 'gini = 0.0\\nsamples = 4\\nvalue = [4, 0]'),\n",
       " Text(0.25, 0.19230769230769232, 'gini = 0.0\\nsamples = 1\\nvalue = [0, 1]'),\n",
       " Text(0.26666666666666666, 0.2692307692307692, 'gini = 0.0\\nsamples = 4\\nvalue = [0, 4]'),\n",
       " Text(0.2833333333333333, 0.34615384615384615, 'gini = 0.0\\nsamples = 5\\nvalue = [0, 5]'),\n",
       " Text(0.3, 0.5769230769230769, 'x[3] <= 58.0\\ngini = 0.245\\nsamples = 7\\nvalue = [6, 1]'),\n",
       " Text(0.2833333333333333, 0.5, 'gini = 0.0\\nsamples = 1\\nvalue = [0, 1]'),\n",
       " Text(0.31666666666666665, 0.5, 'gini = 0.0\\nsamples = 6\\nvalue = [6, 0]'),\n",
       " Text(0.4791666666666667, 0.7307692307692307, 'x[0] <= 123.5\\ngini = 0.392\\nsamples = 71\\nvalue = [52, 19]'),\n",
       " Text(0.4083333333333333, 0.6538461538461539, 'x[1] <= 57.0\\ngini = 0.495\\nsamples = 40\\nvalue = [22, 18]'),\n",
       " Text(0.36666666666666664, 0.5769230769230769, 'x[4] <= 85.0\\ngini = 0.153\\nsamples = 12\\nvalue = [1, 11]'),\n",
       " Text(0.35, 0.5, 'gini = 0.0\\nsamples = 1\\nvalue = [1, 0]'),\n",
       " Text(0.38333333333333336, 0.5, 'gini = 0.0\\nsamples = 11\\nvalue = [0, 11]'),\n",
       " Text(0.45, 0.5769230769230769, 'x[6] <= 12.5\\ngini = 0.375\\nsamples = 28\\nvalue = [21, 7]'),\n",
       " Text(0.4166666666666667, 0.5, 'x[5] <= 59.5\\ngini = 0.496\\nsamples = 11\\nvalue = [5, 6]'),\n",
       " Text(0.4, 0.4230769230769231, 'x[2] <= 7.5\\ngini = 0.278\\nsamples = 6\\nvalue = [5, 1]'),\n",
       " Text(0.38333333333333336, 0.34615384615384615, 'gini = 0.0\\nsamples = 1\\nvalue = [0, 1]'),\n",
       " Text(0.4166666666666667, 0.34615384615384615, 'gini = 0.0\\nsamples = 5\\nvalue = [5, 0]'),\n",
       " Text(0.43333333333333335, 0.4230769230769231, 'gini = 0.0\\nsamples = 5\\nvalue = [0, 5]'),\n",
       " Text(0.48333333333333334, 0.5, 'x[3] <= 53.5\\ngini = 0.111\\nsamples = 17\\nvalue = [16, 1]'),\n",
       " Text(0.4666666666666667, 0.4230769230769231, 'x[4] <= 112.5\\ngini = 0.444\\nsamples = 3\\nvalue = [2, 1]'),\n",
       " Text(0.45, 0.34615384615384615, 'gini = 0.0\\nsamples = 2\\nvalue = [2, 0]'),\n",
       " Text(0.48333333333333334, 0.34615384615384615, 'gini = 0.0\\nsamples = 1\\nvalue = [0, 1]'),\n",
       " Text(0.5, 0.4230769230769231, 'gini = 0.0\\nsamples = 14\\nvalue = [14, 0]'),\n",
       " Text(0.55, 0.6538461538461539, 'x[2] <= 10.5\\ngini = 0.062\\nsamples = 31\\nvalue = [30, 1]'),\n",
       " Text(0.5333333333333333, 0.5769230769230769, 'x[6] <= 15.5\\ngini = 0.245\\nsamples = 7\\nvalue = [6, 1]'),\n",
       " Text(0.5166666666666667, 0.5, 'gini = 0.0\\nsamples = 6\\nvalue = [6, 0]'),\n",
       " Text(0.55, 0.5, 'gini = 0.0\\nsamples = 1\\nvalue = [0, 1]'),\n",
       " Text(0.5666666666666667, 0.5769230769230769, 'gini = 0.0\\nsamples = 24\\nvalue = [24, 0]'),\n",
       " Text(0.7458333333333333, 0.8076923076923077, 'x[2] <= 23.0\\ngini = 0.268\\nsamples = 88\\nvalue = [14, 74]'),\n",
       " Text(0.7291666666666666, 0.7307692307692307, 'x[4] <= 135.5\\ngini = 0.225\\nsamples = 85\\nvalue = [11, 74]'),\n",
       " Text(0.6583333333333333, 0.6538461538461539, 'x[0] <= 143.5\\ngini = 0.343\\nsamples = 41\\nvalue = [9, 32]'),\n",
       " Text(0.6166666666666667, 0.5769230769230769, 'x[2] <= 14.5\\ngini = 0.245\\nsamples = 35\\nvalue = [5, 30]'),\n",
       " Text(0.5833333333333334, 0.5, 'x[3] <= 145.0\\ngini = 0.128\\nsamples = 29\\nvalue = [2, 27]'),\n",
       " Text(0.5666666666666667, 0.4230769230769231, 'x[5] <= 46.0\\ngini = 0.408\\nsamples = 7\\nvalue = [2, 5]'),\n",
       " Text(0.55, 0.34615384615384615, 'x[6] <= 12.5\\ngini = 0.444\\nsamples = 3\\nvalue = [2, 1]'),\n",
       " Text(0.5333333333333333, 0.2692307692307692, 'gini = 0.0\\nsamples = 1\\nvalue = [0, 1]'),\n",
       " Text(0.5666666666666667, 0.2692307692307692, 'gini = 0.0\\nsamples = 2\\nvalue = [2, 0]'),\n",
       " Text(0.5833333333333334, 0.34615384615384615, 'gini = 0.0\\nsamples = 4\\nvalue = [0, 4]'),\n",
       " Text(0.6, 0.4230769230769231, 'gini = 0.0\\nsamples = 22\\nvalue = [0, 22]'),\n",
       " Text(0.65, 0.5, 'x[3] <= 447.5\\ngini = 0.5\\nsamples = 6\\nvalue = [3, 3]'),\n",
       " Text(0.6333333333333333, 0.4230769230769231, 'x[3] <= 149.5\\ngini = 0.375\\nsamples = 4\\nvalue = [3, 1]'),\n",
       " Text(0.6166666666666667, 0.34615384615384615, 'gini = 0.0\\nsamples = 1\\nvalue = [0, 1]'),\n",
       " Text(0.65, 0.34615384615384615, 'gini = 0.0\\nsamples = 3\\nvalue = [3, 0]'),\n",
       " Text(0.6666666666666666, 0.4230769230769231, 'gini = 0.0\\nsamples = 2\\nvalue = [0, 2]'),\n",
       " Text(0.7, 0.5769230769230769, 'x[7] <= 0.5\\ngini = 0.444\\nsamples = 6\\nvalue = [4, 2]'),\n",
       " Text(0.6833333333333333, 0.5, 'gini = 0.0\\nsamples = 3\\nvalue = [3, 0]'),\n",
       " Text(0.7166666666666667, 0.5, 'x[6] <= 17.0\\ngini = 0.444\\nsamples = 3\\nvalue = [1, 2]'),\n",
       " Text(0.7, 0.4230769230769231, 'gini = 0.0\\nsamples = 2\\nvalue = [0, 2]'),\n",
       " Text(0.7333333333333333, 0.4230769230769231, 'gini = 0.0\\nsamples = 1\\nvalue = [1, 0]'),\n",
       " Text(0.8, 0.6538461538461539, 'x[1] <= 118.5\\ngini = 0.087\\nsamples = 44\\nvalue = [2, 42]'),\n",
       " Text(0.7666666666666667, 0.5769230769230769, 'x[5] <= 74.5\\ngini = 0.046\\nsamples = 42\\nvalue = [1, 41]'),\n",
       " Text(0.75, 0.5, 'gini = 0.0\\nsamples = 36\\nvalue = [0, 36]'),\n",
       " Text(0.7833333333333333, 0.5, 'x[6] <= 17.5\\ngini = 0.278\\nsamples = 6\\nvalue = [1, 5]'),\n",
       " Text(0.7666666666666667, 0.4230769230769231, 'gini = 0.0\\nsamples = 5\\nvalue = [0, 5]'),\n",
       " Text(0.8, 0.4230769230769231, 'gini = 0.0\\nsamples = 1\\nvalue = [1, 0]'),\n",
       " Text(0.8333333333333334, 0.5769230769230769, 'x[2] <= 6.5\\ngini = 0.5\\nsamples = 2\\nvalue = [1, 1]'),\n",
       " Text(0.8166666666666667, 0.5, 'gini = 0.0\\nsamples = 1\\nvalue = [1, 0]'),\n",
       " Text(0.85, 0.5, 'gini = 0.0\\nsamples = 1\\nvalue = [0, 1]'),\n",
       " Text(0.7625, 0.7307692307692307, 'gini = 0.0\\nsamples = 3\\nvalue = [3, 0]'),\n",
       " Text(0.95, 0.8846153846153846, 'x[4] <= 158.0\\ngini = 0.216\\nsamples = 65\\nvalue = [57, 8]'),\n",
       " Text(0.9333333333333333, 0.8076923076923077, 'x[5] <= 77.5\\ngini = 0.148\\nsamples = 62\\nvalue = [57, 5]'),\n",
       " Text(0.9166666666666666, 0.7307692307692307, 'x[5] <= 27.5\\ngini = 0.095\\nsamples = 60\\nvalue = [57, 3]'),\n",
       " Text(0.8833333333333333, 0.6538461538461539, 'x[0] <= 103.5\\ngini = 0.5\\nsamples = 2\\nvalue = [1, 1]'),\n",
       " Text(0.8666666666666667, 0.5769230769230769, 'gini = 0.0\\nsamples = 1\\nvalue = [0, 1]'),\n",
       " Text(0.9, 0.5769230769230769, 'gini = 0.0\\nsamples = 1\\nvalue = [1, 0]'),\n",
       " Text(0.95, 0.6538461538461539, 'x[4] <= 132.0\\ngini = 0.067\\nsamples = 58\\nvalue = [56, 2]'),\n",
       " Text(0.9333333333333333, 0.5769230769230769, 'gini = 0.0\\nsamples = 48\\nvalue = [48, 0]'),\n",
       " Text(0.9666666666666667, 0.5769230769230769, 'x[5] <= 72.5\\ngini = 0.32\\nsamples = 10\\nvalue = [8, 2]'),\n",
       " Text(0.95, 0.5, 'x[1] <= 99.0\\ngini = 0.198\\nsamples = 9\\nvalue = [8, 1]'),\n",
       " Text(0.9333333333333333, 0.4230769230769231, 'gini = 0.0\\nsamples = 6\\nvalue = [6, 0]'),\n",
       " Text(0.9666666666666667, 0.4230769230769231, 'x[6] <= 12.5\\ngini = 0.444\\nsamples = 3\\nvalue = [2, 1]'),\n",
       " Text(0.95, 0.34615384615384615, 'gini = 0.0\\nsamples = 1\\nvalue = [0, 1]'),\n",
       " Text(0.9833333333333333, 0.34615384615384615, 'gini = 0.0\\nsamples = 2\\nvalue = [2, 0]'),\n",
       " Text(0.9833333333333333, 0.5, 'gini = 0.0\\nsamples = 1\\nvalue = [0, 1]'),\n",
       " Text(0.95, 0.7307692307692307, 'gini = 0.0\\nsamples = 2\\nvalue = [0, 2]'),\n",
       " Text(0.9666666666666667, 0.8076923076923077, 'gini = 0.0\\nsamples = 3\\nvalue = [0, 3]')]"
      ]
     },
     "execution_count": 44,
     "metadata": {},
     "output_type": "execute_result"
    },
    {
     "data": {
      "image/png": "[encoded data removed]",
      "text/plain": [
       "<Figure size 640x480 with 1 Axes>"
      ]
     },
     "metadata": {},
     "output_type": "display_data"
    }
   ],
   "source": [
    "#PLot the decision tree\n",
    "tree.plot_tree(model_gini)"
   ]
  },
  {
   "cell_type": "code",
   "execution_count": 45,
   "id": "eb1a2d71",
   "metadata": {
    "ExecuteTime": {
     "end_time": "2023-05-22T15:11:28.784618Z",
     "start_time": "2023-05-22T15:11:28.761678Z"
    }
   },
   "outputs": [
    {
     "data": {
      "text/plain": [
       "0.7375"
      ]
     },
     "execution_count": 45,
     "metadata": {},
     "output_type": "execute_result"
    }
   ],
   "source": [
    "#Prediction and computing the accuracy\n",
    "pred=model_gini.predict(x_test)\n",
    "np.mean(preds==y_test) "
   ]
  },
  {
   "cell_type": "code",
   "execution_count": 46,
   "id": "647426e9",
   "metadata": {
    "ExecuteTime": {
     "end_time": "2023-05-22T15:12:04.880874Z",
     "start_time": "2023-05-22T15:12:04.866880Z"
    }
   },
   "outputs": [
    {
     "name": "stdout",
     "output_type": "stream",
     "text": [
      "Total number of tree nodes 113\n",
      "Max depth of the tree 12\n"
     ]
    }
   ],
   "source": [
    "print('Total number of tree nodes', model_gini.tree_.node_count)\n",
    "print('Max depth of the tree', model_gini.tree_.max_depth)"
   ]
  },
  {
   "cell_type": "code",
   "execution_count": null,
   "id": "73ca2b84",
   "metadata": {},
   "outputs": [],
   "source": []
  }
 ],
 "metadata": {
  "kernelspec": {
   "display_name": "Python 3 (ipykernel)",
   "language": "python",
   "name": "python3"
  },
  "language_info": {
   "codemirror_mode": {
    "name": "ipython",
    "version": 3
   },
   "file_extension": ".py",
   "mimetype": "text/x-python",
   "name": "python",
   "nbconvert_exporter": "python",
   "pygments_lexer": "ipython3",
   "version": "3.10.9"
  },
  "varInspector": {
   "cols": {
    "lenName": 16,
    "lenType": 16,
    "lenVar": 40
   },
   "kernels_config": {
    "python": {
     "delete_cmd_postfix": "",
     "delete_cmd_prefix": "del ",
     "library": "var_list.py",
     "varRefreshCmd": "print(var_dic_list())"
    },
    "r": {
     "delete_cmd_postfix": ") ",
     "delete_cmd_prefix": "rm(",
     "library": "var_list.r",
     "varRefreshCmd": "cat(var_dic_list()) "
    }
   },
   "types_to_exclude": [
    "module",
    "function",
    "builtin_function_or_method",
    "instance",
    "_Feature"
   ],
   "window_display": false
  }
 },
 "nbformat": 4,
 "nbformat_minor": 5
}
